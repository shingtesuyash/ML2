{
  "nbformat": 4,
  "nbformat_minor": 0,
  "metadata": {
    "colab": {
      "provenance": [],
      "collapsed_sections": [],
      "authorship_tag": "ABX9TyOJjACP2CjjT4bgFnrgBnAQ",
      "include_colab_link": true
    },
    "kernelspec": {
      "name": "python3",
      "display_name": "Python 3"
    },
    "language_info": {
      "name": "python"
    }
  },
  "cells": [
    {
      "cell_type": "markdown",
      "metadata": {
        "id": "view-in-github",
        "colab_type": "text"
      },
      "source": [
        "<a href=\"https://colab.research.google.com/github/Prachi9539/ML/blob/main/exp2_titanic.ipynb\" target=\"_parent\"><img src=\"https://colab.research.google.com/assets/colab-badge.svg\" alt=\"Open In Colab\"/></a>"
      ]
    },
    {
      "cell_type": "code",
      "execution_count": null,
      "metadata": {
        "id": "-XuglExqfe8Y"
      },
      "outputs": [],
      "source": [
        "import pandas as pd\n",
        "import numpy as np\n",
        "import seaborn as sns\n",
        "import matplotlib.pyplot as plt"
      ]
    },
    {
      "cell_type": "code",
      "source": [
        "%matplotlib inline\n",
        "plt.rc('xtick', labelsize=15)     \n",
        "plt.rc('ytick', labelsize=15)\n",
        "plt.rc('axes', titlesize=16)\n",
        "sns.set_style('darkgrid')"
      ],
      "metadata": {
        "id": "yDPDbFXxfpJm"
      },
      "execution_count": null,
      "outputs": []
    },
    {
      "cell_type": "code",
      "source": [
        "train = pd.read_csv('../content/sample_data/train.csv')\n",
        "test = pd.read_csv('../content/sample_data/test.csv')"
      ],
      "metadata": {
        "id": "IQQqEeYdfshu"
      },
      "execution_count": null,
      "outputs": []
    },
    {
      "cell_type": "code",
      "source": [
        "train.shape, test.shape\n",
        "((891, 12), (418, 11))"
      ],
      "metadata": {
        "colab": {
          "base_uri": "https://localhost:8080/"
        },
        "id": "fUL9UTUTf_61",
        "outputId": "ab106bde-6351-4306-a9f1-d440d75419d7"
      },
      "execution_count": null,
      "outputs": [
        {
          "output_type": "execute_result",
          "data": {
            "text/plain": [
              "((891, 12), (418, 11))"
            ]
          },
          "metadata": {},
          "execution_count": 12
        }
      ]
    },
    {
      "cell_type": "code",
      "source": [
        "train.describe()"
      ],
      "metadata": {
        "colab": {
          "base_uri": "https://localhost:8080/",
          "height": 300
        },
        "id": "PHtKyk0qgCyk",
        "outputId": "97dd0394-5b28-472c-b92c-e5e97c810c5d"
      },
      "execution_count": null,
      "outputs": [
        {
          "output_type": "execute_result",
          "data": {
            "text/plain": [
              "       PassengerId    Survived      Pclass         Age       SibSp  \\\n",
              "count   891.000000  891.000000  891.000000  714.000000  891.000000   \n",
              "mean    446.000000    0.383838    2.308642   29.699118    0.523008   \n",
              "std     257.353842    0.486592    0.836071   14.526497    1.102743   \n",
              "min       1.000000    0.000000    1.000000    0.420000    0.000000   \n",
              "25%     223.500000    0.000000    2.000000   20.125000    0.000000   \n",
              "50%     446.000000    0.000000    3.000000   28.000000    0.000000   \n",
              "75%     668.500000    1.000000    3.000000   38.000000    1.000000   \n",
              "max     891.000000    1.000000    3.000000   80.000000    8.000000   \n",
              "\n",
              "            Parch        Fare  \n",
              "count  891.000000  891.000000  \n",
              "mean     0.381594   32.204208  \n",
              "std      0.806057   49.693429  \n",
              "min      0.000000    0.000000  \n",
              "25%      0.000000    7.910400  \n",
              "50%      0.000000   14.454200  \n",
              "75%      0.000000   31.000000  \n",
              "max      6.000000  512.329200  "
            ],
            "text/html": [
              "\n",
              "  <div id=\"df-6dbc9af7-c65b-4275-b70b-87a527af0e70\">\n",
              "    <div class=\"colab-df-container\">\n",
              "      <div>\n",
              "<style scoped>\n",
              "    .dataframe tbody tr th:only-of-type {\n",
              "        vertical-align: middle;\n",
              "    }\n",
              "\n",
              "    .dataframe tbody tr th {\n",
              "        vertical-align: top;\n",
              "    }\n",
              "\n",
              "    .dataframe thead th {\n",
              "        text-align: right;\n",
              "    }\n",
              "</style>\n",
              "<table border=\"1\" class=\"dataframe\">\n",
              "  <thead>\n",
              "    <tr style=\"text-align: right;\">\n",
              "      <th></th>\n",
              "      <th>PassengerId</th>\n",
              "      <th>Survived</th>\n",
              "      <th>Pclass</th>\n",
              "      <th>Age</th>\n",
              "      <th>SibSp</th>\n",
              "      <th>Parch</th>\n",
              "      <th>Fare</th>\n",
              "    </tr>\n",
              "  </thead>\n",
              "  <tbody>\n",
              "    <tr>\n",
              "      <th>count</th>\n",
              "      <td>891.000000</td>\n",
              "      <td>891.000000</td>\n",
              "      <td>891.000000</td>\n",
              "      <td>714.000000</td>\n",
              "      <td>891.000000</td>\n",
              "      <td>891.000000</td>\n",
              "      <td>891.000000</td>\n",
              "    </tr>\n",
              "    <tr>\n",
              "      <th>mean</th>\n",
              "      <td>446.000000</td>\n",
              "      <td>0.383838</td>\n",
              "      <td>2.308642</td>\n",
              "      <td>29.699118</td>\n",
              "      <td>0.523008</td>\n",
              "      <td>0.381594</td>\n",
              "      <td>32.204208</td>\n",
              "    </tr>\n",
              "    <tr>\n",
              "      <th>std</th>\n",
              "      <td>257.353842</td>\n",
              "      <td>0.486592</td>\n",
              "      <td>0.836071</td>\n",
              "      <td>14.526497</td>\n",
              "      <td>1.102743</td>\n",
              "      <td>0.806057</td>\n",
              "      <td>49.693429</td>\n",
              "    </tr>\n",
              "    <tr>\n",
              "      <th>min</th>\n",
              "      <td>1.000000</td>\n",
              "      <td>0.000000</td>\n",
              "      <td>1.000000</td>\n",
              "      <td>0.420000</td>\n",
              "      <td>0.000000</td>\n",
              "      <td>0.000000</td>\n",
              "      <td>0.000000</td>\n",
              "    </tr>\n",
              "    <tr>\n",
              "      <th>25%</th>\n",
              "      <td>223.500000</td>\n",
              "      <td>0.000000</td>\n",
              "      <td>2.000000</td>\n",
              "      <td>20.125000</td>\n",
              "      <td>0.000000</td>\n",
              "      <td>0.000000</td>\n",
              "      <td>7.910400</td>\n",
              "    </tr>\n",
              "    <tr>\n",
              "      <th>50%</th>\n",
              "      <td>446.000000</td>\n",
              "      <td>0.000000</td>\n",
              "      <td>3.000000</td>\n",
              "      <td>28.000000</td>\n",
              "      <td>0.000000</td>\n",
              "      <td>0.000000</td>\n",
              "      <td>14.454200</td>\n",
              "    </tr>\n",
              "    <tr>\n",
              "      <th>75%</th>\n",
              "      <td>668.500000</td>\n",
              "      <td>1.000000</td>\n",
              "      <td>3.000000</td>\n",
              "      <td>38.000000</td>\n",
              "      <td>1.000000</td>\n",
              "      <td>0.000000</td>\n",
              "      <td>31.000000</td>\n",
              "    </tr>\n",
              "    <tr>\n",
              "      <th>max</th>\n",
              "      <td>891.000000</td>\n",
              "      <td>1.000000</td>\n",
              "      <td>3.000000</td>\n",
              "      <td>80.000000</td>\n",
              "      <td>8.000000</td>\n",
              "      <td>6.000000</td>\n",
              "      <td>512.329200</td>\n",
              "    </tr>\n",
              "  </tbody>\n",
              "</table>\n",
              "</div>\n",
              "      <button class=\"colab-df-convert\" onclick=\"convertToInteractive('df-6dbc9af7-c65b-4275-b70b-87a527af0e70')\"\n",
              "              title=\"Convert this dataframe to an interactive table.\"\n",
              "              style=\"display:none;\">\n",
              "        \n",
              "  <svg xmlns=\"http://www.w3.org/2000/svg\" height=\"24px\"viewBox=\"0 0 24 24\"\n",
              "       width=\"24px\">\n",
              "    <path d=\"M0 0h24v24H0V0z\" fill=\"none\"/>\n",
              "    <path d=\"M18.56 5.44l.94 2.06.94-2.06 2.06-.94-2.06-.94-.94-2.06-.94 2.06-2.06.94zm-11 1L8.5 8.5l.94-2.06 2.06-.94-2.06-.94L8.5 2.5l-.94 2.06-2.06.94zm10 10l.94 2.06.94-2.06 2.06-.94-2.06-.94-.94-2.06-.94 2.06-2.06.94z\"/><path d=\"M17.41 7.96l-1.37-1.37c-.4-.4-.92-.59-1.43-.59-.52 0-1.04.2-1.43.59L10.3 9.45l-7.72 7.72c-.78.78-.78 2.05 0 2.83L4 21.41c.39.39.9.59 1.41.59.51 0 1.02-.2 1.41-.59l7.78-7.78 2.81-2.81c.8-.78.8-2.07 0-2.86zM5.41 20L4 18.59l7.72-7.72 1.47 1.35L5.41 20z\"/>\n",
              "  </svg>\n",
              "      </button>\n",
              "      \n",
              "  <style>\n",
              "    .colab-df-container {\n",
              "      display:flex;\n",
              "      flex-wrap:wrap;\n",
              "      gap: 12px;\n",
              "    }\n",
              "\n",
              "    .colab-df-convert {\n",
              "      background-color: #E8F0FE;\n",
              "      border: none;\n",
              "      border-radius: 50%;\n",
              "      cursor: pointer;\n",
              "      display: none;\n",
              "      fill: #1967D2;\n",
              "      height: 32px;\n",
              "      padding: 0 0 0 0;\n",
              "      width: 32px;\n",
              "    }\n",
              "\n",
              "    .colab-df-convert:hover {\n",
              "      background-color: #E2EBFA;\n",
              "      box-shadow: 0px 1px 2px rgba(60, 64, 67, 0.3), 0px 1px 3px 1px rgba(60, 64, 67, 0.15);\n",
              "      fill: #174EA6;\n",
              "    }\n",
              "\n",
              "    [theme=dark] .colab-df-convert {\n",
              "      background-color: #3B4455;\n",
              "      fill: #D2E3FC;\n",
              "    }\n",
              "\n",
              "    [theme=dark] .colab-df-convert:hover {\n",
              "      background-color: #434B5C;\n",
              "      box-shadow: 0px 1px 3px 1px rgba(0, 0, 0, 0.15);\n",
              "      filter: drop-shadow(0px 1px 2px rgba(0, 0, 0, 0.3));\n",
              "      fill: #FFFFFF;\n",
              "    }\n",
              "  </style>\n",
              "\n",
              "      <script>\n",
              "        const buttonEl =\n",
              "          document.querySelector('#df-6dbc9af7-c65b-4275-b70b-87a527af0e70 button.colab-df-convert');\n",
              "        buttonEl.style.display =\n",
              "          google.colab.kernel.accessAllowed ? 'block' : 'none';\n",
              "\n",
              "        async function convertToInteractive(key) {\n",
              "          const element = document.querySelector('#df-6dbc9af7-c65b-4275-b70b-87a527af0e70');\n",
              "          const dataTable =\n",
              "            await google.colab.kernel.invokeFunction('convertToInteractive',\n",
              "                                                     [key], {});\n",
              "          if (!dataTable) return;\n",
              "\n",
              "          const docLinkHtml = 'Like what you see? Visit the ' +\n",
              "            '<a target=\"_blank\" href=https://colab.research.google.com/notebooks/data_table.ipynb>data table notebook</a>'\n",
              "            + ' to learn more about interactive tables.';\n",
              "          element.innerHTML = '';\n",
              "          dataTable['output_type'] = 'display_data';\n",
              "          await google.colab.output.renderOutput(dataTable, element);\n",
              "          const docLink = document.createElement('div');\n",
              "          docLink.innerHTML = docLinkHtml;\n",
              "          element.appendChild(docLink);\n",
              "        }\n",
              "      </script>\n",
              "    </div>\n",
              "  </div>\n",
              "  "
            ]
          },
          "metadata": {},
          "execution_count": 13
        }
      ]
    },
    {
      "cell_type": "code",
      "source": [
        "train.isnull().sum()"
      ],
      "metadata": {
        "colab": {
          "base_uri": "https://localhost:8080/"
        },
        "id": "jhuXu3njgFTU",
        "outputId": "db2c9b28-9092-4926-a0ca-d67631927da3"
      },
      "execution_count": null,
      "outputs": [
        {
          "output_type": "execute_result",
          "data": {
            "text/plain": [
              "PassengerId      0\n",
              "Survived         0\n",
              "Pclass           0\n",
              "Name             0\n",
              "Sex              0\n",
              "Age            177\n",
              "SibSp            0\n",
              "Parch            0\n",
              "Ticket           0\n",
              "Fare             0\n",
              "Cabin          687\n",
              "Embarked         2\n",
              "dtype: int64"
            ]
          },
          "metadata": {},
          "execution_count": 14
        }
      ]
    },
    {
      "cell_type": "code",
      "source": [
        "train.drop(columns=['Cabin'], inplace=True)\n",
        "train.dropna(subset=['Embarked'], inplace=True)\n",
        "test.drop(columns=['Cabin'], inplace=True)\n",
        "test.dropna(subset=['Embarked','Fare'], inplace=True)"
      ],
      "metadata": {
        "id": "7QELqlF1gHxM"
      },
      "execution_count": null,
      "outputs": []
    },
    {
      "cell_type": "code",
      "source": [
        "train.isnull().sum()"
      ],
      "metadata": {
        "colab": {
          "base_uri": "https://localhost:8080/"
        },
        "id": "cyjgJKkEiBdf",
        "outputId": "12b48232-ea4f-4ebe-9beb-e47e638290a2"
      },
      "execution_count": null,
      "outputs": [
        {
          "output_type": "execute_result",
          "data": {
            "text/plain": [
              "PassengerId      0\n",
              "Survived         0\n",
              "Pclass           0\n",
              "Name             0\n",
              "Sex              0\n",
              "Age            177\n",
              "SibSp            0\n",
              "Parch            0\n",
              "Ticket           0\n",
              "Fare             0\n",
              "Embarked         0\n",
              "dtype: int64"
            ]
          },
          "metadata": {},
          "execution_count": 16
        }
      ]
    },
    {
      "cell_type": "code",
      "source": [
        "train.head()"
      ],
      "metadata": {
        "colab": {
          "base_uri": "https://localhost:8080/",
          "height": 302
        },
        "id": "7uv0bzwviEce",
        "outputId": "af729587-1f7c-46bf-93bc-7ff43c9abd41"
      },
      "execution_count": null,
      "outputs": [
        {
          "output_type": "execute_result",
          "data": {
            "text/plain": [
              "   PassengerId  Survived  Pclass  \\\n",
              "0            1         0       3   \n",
              "1            2         1       1   \n",
              "2            3         1       3   \n",
              "3            4         1       1   \n",
              "4            5         0       3   \n",
              "\n",
              "                                                Name     Sex   Age  SibSp  \\\n",
              "0                            Braund, Mr. Owen Harris    male  22.0      1   \n",
              "1  Cumings, Mrs. John Bradley (Florence Briggs Th...  female  38.0      1   \n",
              "2                             Heikkinen, Miss. Laina  female  26.0      0   \n",
              "3       Futrelle, Mrs. Jacques Heath (Lily May Peel)  female  35.0      1   \n",
              "4                           Allen, Mr. William Henry    male  35.0      0   \n",
              "\n",
              "   Parch            Ticket     Fare Embarked  \n",
              "0      0         A/5 21171   7.2500        S  \n",
              "1      0          PC 17599  71.2833        C  \n",
              "2      0  STON/O2. 3101282   7.9250        S  \n",
              "3      0            113803  53.1000        S  \n",
              "4      0            373450   8.0500        S  "
            ],
            "text/html": [
              "\n",
              "  <div id=\"df-62c7e36e-cd2f-4b9d-876a-d3b39699c2be\">\n",
              "    <div class=\"colab-df-container\">\n",
              "      <div>\n",
              "<style scoped>\n",
              "    .dataframe tbody tr th:only-of-type {\n",
              "        vertical-align: middle;\n",
              "    }\n",
              "\n",
              "    .dataframe tbody tr th {\n",
              "        vertical-align: top;\n",
              "    }\n",
              "\n",
              "    .dataframe thead th {\n",
              "        text-align: right;\n",
              "    }\n",
              "</style>\n",
              "<table border=\"1\" class=\"dataframe\">\n",
              "  <thead>\n",
              "    <tr style=\"text-align: right;\">\n",
              "      <th></th>\n",
              "      <th>PassengerId</th>\n",
              "      <th>Survived</th>\n",
              "      <th>Pclass</th>\n",
              "      <th>Name</th>\n",
              "      <th>Sex</th>\n",
              "      <th>Age</th>\n",
              "      <th>SibSp</th>\n",
              "      <th>Parch</th>\n",
              "      <th>Ticket</th>\n",
              "      <th>Fare</th>\n",
              "      <th>Embarked</th>\n",
              "    </tr>\n",
              "  </thead>\n",
              "  <tbody>\n",
              "    <tr>\n",
              "      <th>0</th>\n",
              "      <td>1</td>\n",
              "      <td>0</td>\n",
              "      <td>3</td>\n",
              "      <td>Braund, Mr. Owen Harris</td>\n",
              "      <td>male</td>\n",
              "      <td>22.0</td>\n",
              "      <td>1</td>\n",
              "      <td>0</td>\n",
              "      <td>A/5 21171</td>\n",
              "      <td>7.2500</td>\n",
              "      <td>S</td>\n",
              "    </tr>\n",
              "    <tr>\n",
              "      <th>1</th>\n",
              "      <td>2</td>\n",
              "      <td>1</td>\n",
              "      <td>1</td>\n",
              "      <td>Cumings, Mrs. John Bradley (Florence Briggs Th...</td>\n",
              "      <td>female</td>\n",
              "      <td>38.0</td>\n",
              "      <td>1</td>\n",
              "      <td>0</td>\n",
              "      <td>PC 17599</td>\n",
              "      <td>71.2833</td>\n",
              "      <td>C</td>\n",
              "    </tr>\n",
              "    <tr>\n",
              "      <th>2</th>\n",
              "      <td>3</td>\n",
              "      <td>1</td>\n",
              "      <td>3</td>\n",
              "      <td>Heikkinen, Miss. Laina</td>\n",
              "      <td>female</td>\n",
              "      <td>26.0</td>\n",
              "      <td>0</td>\n",
              "      <td>0</td>\n",
              "      <td>STON/O2. 3101282</td>\n",
              "      <td>7.9250</td>\n",
              "      <td>S</td>\n",
              "    </tr>\n",
              "    <tr>\n",
              "      <th>3</th>\n",
              "      <td>4</td>\n",
              "      <td>1</td>\n",
              "      <td>1</td>\n",
              "      <td>Futrelle, Mrs. Jacques Heath (Lily May Peel)</td>\n",
              "      <td>female</td>\n",
              "      <td>35.0</td>\n",
              "      <td>1</td>\n",
              "      <td>0</td>\n",
              "      <td>113803</td>\n",
              "      <td>53.1000</td>\n",
              "      <td>S</td>\n",
              "    </tr>\n",
              "    <tr>\n",
              "      <th>4</th>\n",
              "      <td>5</td>\n",
              "      <td>0</td>\n",
              "      <td>3</td>\n",
              "      <td>Allen, Mr. William Henry</td>\n",
              "      <td>male</td>\n",
              "      <td>35.0</td>\n",
              "      <td>0</td>\n",
              "      <td>0</td>\n",
              "      <td>373450</td>\n",
              "      <td>8.0500</td>\n",
              "      <td>S</td>\n",
              "    </tr>\n",
              "  </tbody>\n",
              "</table>\n",
              "</div>\n",
              "      <button class=\"colab-df-convert\" onclick=\"convertToInteractive('df-62c7e36e-cd2f-4b9d-876a-d3b39699c2be')\"\n",
              "              title=\"Convert this dataframe to an interactive table.\"\n",
              "              style=\"display:none;\">\n",
              "        \n",
              "  <svg xmlns=\"http://www.w3.org/2000/svg\" height=\"24px\"viewBox=\"0 0 24 24\"\n",
              "       width=\"24px\">\n",
              "    <path d=\"M0 0h24v24H0V0z\" fill=\"none\"/>\n",
              "    <path d=\"M18.56 5.44l.94 2.06.94-2.06 2.06-.94-2.06-.94-.94-2.06-.94 2.06-2.06.94zm-11 1L8.5 8.5l.94-2.06 2.06-.94-2.06-.94L8.5 2.5l-.94 2.06-2.06.94zm10 10l.94 2.06.94-2.06 2.06-.94-2.06-.94-.94-2.06-.94 2.06-2.06.94z\"/><path d=\"M17.41 7.96l-1.37-1.37c-.4-.4-.92-.59-1.43-.59-.52 0-1.04.2-1.43.59L10.3 9.45l-7.72 7.72c-.78.78-.78 2.05 0 2.83L4 21.41c.39.39.9.59 1.41.59.51 0 1.02-.2 1.41-.59l7.78-7.78 2.81-2.81c.8-.78.8-2.07 0-2.86zM5.41 20L4 18.59l7.72-7.72 1.47 1.35L5.41 20z\"/>\n",
              "  </svg>\n",
              "      </button>\n",
              "      \n",
              "  <style>\n",
              "    .colab-df-container {\n",
              "      display:flex;\n",
              "      flex-wrap:wrap;\n",
              "      gap: 12px;\n",
              "    }\n",
              "\n",
              "    .colab-df-convert {\n",
              "      background-color: #E8F0FE;\n",
              "      border: none;\n",
              "      border-radius: 50%;\n",
              "      cursor: pointer;\n",
              "      display: none;\n",
              "      fill: #1967D2;\n",
              "      height: 32px;\n",
              "      padding: 0 0 0 0;\n",
              "      width: 32px;\n",
              "    }\n",
              "\n",
              "    .colab-df-convert:hover {\n",
              "      background-color: #E2EBFA;\n",
              "      box-shadow: 0px 1px 2px rgba(60, 64, 67, 0.3), 0px 1px 3px 1px rgba(60, 64, 67, 0.15);\n",
              "      fill: #174EA6;\n",
              "    }\n",
              "\n",
              "    [theme=dark] .colab-df-convert {\n",
              "      background-color: #3B4455;\n",
              "      fill: #D2E3FC;\n",
              "    }\n",
              "\n",
              "    [theme=dark] .colab-df-convert:hover {\n",
              "      background-color: #434B5C;\n",
              "      box-shadow: 0px 1px 3px 1px rgba(0, 0, 0, 0.15);\n",
              "      filter: drop-shadow(0px 1px 2px rgba(0, 0, 0, 0.3));\n",
              "      fill: #FFFFFF;\n",
              "    }\n",
              "  </style>\n",
              "\n",
              "      <script>\n",
              "        const buttonEl =\n",
              "          document.querySelector('#df-62c7e36e-cd2f-4b9d-876a-d3b39699c2be button.colab-df-convert');\n",
              "        buttonEl.style.display =\n",
              "          google.colab.kernel.accessAllowed ? 'block' : 'none';\n",
              "\n",
              "        async function convertToInteractive(key) {\n",
              "          const element = document.querySelector('#df-62c7e36e-cd2f-4b9d-876a-d3b39699c2be');\n",
              "          const dataTable =\n",
              "            await google.colab.kernel.invokeFunction('convertToInteractive',\n",
              "                                                     [key], {});\n",
              "          if (!dataTable) return;\n",
              "\n",
              "          const docLinkHtml = 'Like what you see? Visit the ' +\n",
              "            '<a target=\"_blank\" href=https://colab.research.google.com/notebooks/data_table.ipynb>data table notebook</a>'\n",
              "            + ' to learn more about interactive tables.';\n",
              "          element.innerHTML = '';\n",
              "          dataTable['output_type'] = 'display_data';\n",
              "          await google.colab.output.renderOutput(dataTable, element);\n",
              "          const docLink = document.createElement('div');\n",
              "          docLink.innerHTML = docLinkHtml;\n",
              "          element.appendChild(docLink);\n",
              "        }\n",
              "      </script>\n",
              "    </div>\n",
              "  </div>\n",
              "  "
            ]
          },
          "metadata": {},
          "execution_count": 17
        }
      ]
    },
    {
      "cell_type": "code",
      "source": [
        "train.dtypes"
      ],
      "metadata": {
        "colab": {
          "base_uri": "https://localhost:8080/"
        },
        "id": "62RzOLEoiHJe",
        "outputId": "4b6bb5b5-0e92-4944-d3c4-b9779528549a"
      },
      "execution_count": null,
      "outputs": [
        {
          "output_type": "execute_result",
          "data": {
            "text/plain": [
              "PassengerId      int64\n",
              "Survived         int64\n",
              "Pclass           int64\n",
              "Name            object\n",
              "Sex             object\n",
              "Age            float64\n",
              "SibSp            int64\n",
              "Parch            int64\n",
              "Ticket          object\n",
              "Fare           float64\n",
              "Embarked        object\n",
              "dtype: object"
            ]
          },
          "metadata": {},
          "execution_count": 18
        }
      ]
    },
    {
      "cell_type": "code",
      "source": [
        "train['Embarked'].value_counts()"
      ],
      "metadata": {
        "colab": {
          "base_uri": "https://localhost:8080/"
        },
        "id": "GABaWilMiJ0X",
        "outputId": "84da3d6d-cd3c-446c-81e2-8c80440d6d55"
      },
      "execution_count": null,
      "outputs": [
        {
          "output_type": "execute_result",
          "data": {
            "text/plain": [
              "S    644\n",
              "C    168\n",
              "Q     77\n",
              "Name: Embarked, dtype: int64"
            ]
          },
          "metadata": {},
          "execution_count": 19
        }
      ]
    },
    {
      "cell_type": "code",
      "source": [
        "def convert_embarked(x):\n",
        "    if x == \"C\":\n",
        "        return \"Cherbourg\"\n",
        "    elif x == 'Q':\n",
        "        return \"Queenstown\"\n",
        "    elif x == 'S':\n",
        "        return \"Southampton\"\n",
        "train.Embarked = train.Embarked.map(convert_embarked)\n",
        "test.Embarked = train.Embarked.map(convert_embarked)"
      ],
      "metadata": {
        "id": "zjP96tj-iMME"
      },
      "execution_count": null,
      "outputs": []
    },
    {
      "cell_type": "code",
      "source": [
        "train['Embarked'].value_counts()"
      ],
      "metadata": {
        "colab": {
          "base_uri": "https://localhost:8080/"
        },
        "id": "PW2MoSxViQ2s",
        "outputId": "9d37b7fe-a18a-411e-cb47-d4f8b8da6948"
      },
      "execution_count": null,
      "outputs": [
        {
          "output_type": "execute_result",
          "data": {
            "text/plain": [
              "Southampton    644\n",
              "Cherbourg      168\n",
              "Queenstown      77\n",
              "Name: Embarked, dtype: int64"
            ]
          },
          "metadata": {},
          "execution_count": 21
        }
      ]
    },
    {
      "cell_type": "code",
      "source": [
        "train.groupby('FamilySize').agg({\"Survived\" : 'mean'}).plot(kind='bar')"
      ],
      "metadata": {
        "colab": {
          "base_uri": "https://localhost:8080/",
          "height": 305
        },
        "id": "ED04rkjAiUQ1",
        "outputId": "343c6ac1-c3cf-4669-c290-f9d82b8d39a3"
      },
      "execution_count": null,
      "outputs": [
        {
          "output_type": "execute_result",
          "data": {
            "text/plain": [
              "<matplotlib.axes._subplots.AxesSubplot at 0x7f11d9cbe210>"
            ]
          },
          "metadata": {},
          "execution_count": 23
        },
        {
          "output_type": "display_data",
          "data": {
            "text/plain": [
              "<Figure size 432x288 with 1 Axes>"
            ],
            "image/png": "[encoded data removed]"
          },
          "metadata": {}
        }
      ]
    },
    {
      "cell_type": "code",
      "source": [
        "train.drop(columns=['PassengerId','Ticket'], inplace=True)\n",
        "test.drop(columns=['PassengerId','Ticket'], inplace=True)"
      ],
      "metadata": {
        "id": "BRqw6ePYiewE"
      },
      "execution_count": null,
      "outputs": []
    },
    {
      "cell_type": "code",
      "source": [
        "train['Title'] = train['Name'].map(lambda x: x.split(',')[1].split('.')[0].strip())\n",
        "test['Title'] = test['Name'].map(lambda x: x.split(',')[1].split('.')[0].strip())"
      ],
      "metadata": {
        "id": "ymJNjI7cihJc"
      },
      "execution_count": null,
      "outputs": []
    },
    {
      "cell_type": "code",
      "source": [
        "train['Title'].value_counts()"
      ],
      "metadata": {
        "colab": {
          "base_uri": "https://localhost:8080/"
        },
        "id": "ic0RJm-vijKr",
        "outputId": "4b5d19e8-b095-4698-d51b-54a75143cddc"
      },
      "execution_count": null,
      "outputs": [
        {
          "output_type": "execute_result",
          "data": {
            "text/plain": [
              "Mr              517\n",
              "Miss            181\n",
              "Mrs             124\n",
              "Master           40\n",
              "Dr                7\n",
              "Rev               6\n",
              "Mlle              2\n",
              "Major             2\n",
              "Col               2\n",
              "the Countess      1\n",
              "Capt              1\n",
              "Ms                1\n",
              "Sir               1\n",
              "Lady              1\n",
              "Mme               1\n",
              "Don               1\n",
              "Jonkheer          1\n",
              "Name: Title, dtype: int64"
            ]
          },
          "metadata": {},
          "execution_count": 26
        }
      ]
    },
    {
      "cell_type": "code",
      "source": [
        "train.drop(columns=['Name'], inplace=True)\n",
        "test.drop(columns=['Name'], inplace=True)"
      ],
      "metadata": {
        "id": "plUsTqrOileT"
      },
      "execution_count": null,
      "outputs": []
    },
    {
      "cell_type": "code",
      "source": [
        "train.head()"
      ],
      "metadata": {
        "colab": {
          "base_uri": "https://localhost:8080/",
          "height": 206
        },
        "id": "QeVe2jTtinF9",
        "outputId": "b4f63741-2b35-445d-fb64-4d52fa79bbd5"
      },
      "execution_count": null,
      "outputs": [
        {
          "output_type": "execute_result",
          "data": {
            "text/plain": [
              "   Survived  Pclass     Sex   Age  SibSp  Parch     Fare     Embarked  \\\n",
              "0         0       3    male  22.0      1      0   7.2500  Southampton   \n",
              "1         1       1  female  38.0      1      0  71.2833    Cherbourg   \n",
              "2         1       3  female  26.0      0      0   7.9250  Southampton   \n",
              "3         1       1  female  35.0      1      0  53.1000  Southampton   \n",
              "4         0       3    male  35.0      0      0   8.0500  Southampton   \n",
              "\n",
              "   FamilySize Title  \n",
              "0           1    Mr  \n",
              "1           1   Mrs  \n",
              "2           0  Miss  \n",
              "3           1   Mrs  \n",
              "4           0    Mr  "
            ],
            "text/html": [
              "\n",
              "  <div id=\"df-2129af06-3053-470a-8902-096dc313d9be\">\n",
              "    <div class=\"colab-df-container\">\n",
              "      <div>\n",
              "<style scoped>\n",
              "    .dataframe tbody tr th:only-of-type {\n",
              "        vertical-align: middle;\n",
              "    }\n",
              "\n",
              "    .dataframe tbody tr th {\n",
              "        vertical-align: top;\n",
              "    }\n",
              "\n",
              "    .dataframe thead th {\n",
              "        text-align: right;\n",
              "    }\n",
              "</style>\n",
              "<table border=\"1\" class=\"dataframe\">\n",
              "  <thead>\n",
              "    <tr style=\"text-align: right;\">\n",
              "      <th></th>\n",
              "      <th>Survived</th>\n",
              "      <th>Pclass</th>\n",
              "      <th>Sex</th>\n",
              "      <th>Age</th>\n",
              "      <th>SibSp</th>\n",
              "      <th>Parch</th>\n",
              "      <th>Fare</th>\n",
              "      <th>Embarked</th>\n",
              "      <th>FamilySize</th>\n",
              "      <th>Title</th>\n",
              "    </tr>\n",
              "  </thead>\n",
              "  <tbody>\n",
              "    <tr>\n",
              "      <th>0</th>\n",
              "      <td>0</td>\n",
              "      <td>3</td>\n",
              "      <td>male</td>\n",
              "      <td>22.0</td>\n",
              "      <td>1</td>\n",
              "      <td>0</td>\n",
              "      <td>7.2500</td>\n",
              "      <td>Southampton</td>\n",
              "      <td>1</td>\n",
              "      <td>Mr</td>\n",
              "    </tr>\n",
              "    <tr>\n",
              "      <th>1</th>\n",
              "      <td>1</td>\n",
              "      <td>1</td>\n",
              "      <td>female</td>\n",
              "      <td>38.0</td>\n",
              "      <td>1</td>\n",
              "      <td>0</td>\n",
              "      <td>71.2833</td>\n",
              "      <td>Cherbourg</td>\n",
              "      <td>1</td>\n",
              "      <td>Mrs</td>\n",
              "    </tr>\n",
              "    <tr>\n",
              "      <th>2</th>\n",
              "      <td>1</td>\n",
              "      <td>3</td>\n",
              "      <td>female</td>\n",
              "      <td>26.0</td>\n",
              "      <td>0</td>\n",
              "      <td>0</td>\n",
              "      <td>7.9250</td>\n",
              "      <td>Southampton</td>\n",
              "      <td>0</td>\n",
              "      <td>Miss</td>\n",
              "    </tr>\n",
              "    <tr>\n",
              "      <th>3</th>\n",
              "      <td>1</td>\n",
              "      <td>1</td>\n",
              "      <td>female</td>\n",
              "      <td>35.0</td>\n",
              "      <td>1</td>\n",
              "      <td>0</td>\n",
              "      <td>53.1000</td>\n",
              "      <td>Southampton</td>\n",
              "      <td>1</td>\n",
              "      <td>Mrs</td>\n",
              "    </tr>\n",
              "    <tr>\n",
              "      <th>4</th>\n",
              "      <td>0</td>\n",
              "      <td>3</td>\n",
              "      <td>male</td>\n",
              "      <td>35.0</td>\n",
              "      <td>0</td>\n",
              "      <td>0</td>\n",
              "      <td>8.0500</td>\n",
              "      <td>Southampton</td>\n",
              "      <td>0</td>\n",
              "      <td>Mr</td>\n",
              "    </tr>\n",
              "  </tbody>\n",
              "</table>\n",
              "</div>\n",
              "      <button class=\"colab-df-convert\" onclick=\"convertToInteractive('df-2129af06-3053-470a-8902-096dc313d9be')\"\n",
              "              title=\"Convert this dataframe to an interactive table.\"\n",
              "              style=\"display:none;\">\n",
              "        \n",
              "  <svg xmlns=\"http://www.w3.org/2000/svg\" height=\"24px\"viewBox=\"0 0 24 24\"\n",
              "       width=\"24px\">\n",
              "    <path d=\"M0 0h24v24H0V0z\" fill=\"none\"/>\n",
              "    <path d=\"M18.56 5.44l.94 2.06.94-2.06 2.06-.94-2.06-.94-.94-2.06-.94 2.06-2.06.94zm-11 1L8.5 8.5l.94-2.06 2.06-.94-2.06-.94L8.5 2.5l-.94 2.06-2.06.94zm10 10l.94 2.06.94-2.06 2.06-.94-2.06-.94-.94-2.06-.94 2.06-2.06.94z\"/><path d=\"M17.41 7.96l-1.37-1.37c-.4-.4-.92-.59-1.43-.59-.52 0-1.04.2-1.43.59L10.3 9.45l-7.72 7.72c-.78.78-.78 2.05 0 2.83L4 21.41c.39.39.9.59 1.41.59.51 0 1.02-.2 1.41-.59l7.78-7.78 2.81-2.81c.8-.78.8-2.07 0-2.86zM5.41 20L4 18.59l7.72-7.72 1.47 1.35L5.41 20z\"/>\n",
              "  </svg>\n",
              "      </button>\n",
              "      \n",
              "  <style>\n",
              "    .colab-df-container {\n",
              "      display:flex;\n",
              "      flex-wrap:wrap;\n",
              "      gap: 12px;\n",
              "    }\n",
              "\n",
              "    .colab-df-convert {\n",
              "      background-color: #E8F0FE;\n",
              "      border: none;\n",
              "      border-radius: 50%;\n",
              "      cursor: pointer;\n",
              "      display: none;\n",
              "      fill: #1967D2;\n",
              "      height: 32px;\n",
              "      padding: 0 0 0 0;\n",
              "      width: 32px;\n",
              "    }\n",
              "\n",
              "    .colab-df-convert:hover {\n",
              "      background-color: #E2EBFA;\n",
              "      box-shadow: 0px 1px 2px rgba(60, 64, 67, 0.3), 0px 1px 3px 1px rgba(60, 64, 67, 0.15);\n",
              "      fill: #174EA6;\n",
              "    }\n",
              "\n",
              "    [theme=dark] .colab-df-convert {\n",
              "      background-color: #3B4455;\n",
              "      fill: #D2E3FC;\n",
              "    }\n",
              "\n",
              "    [theme=dark] .colab-df-convert:hover {\n",
              "      background-color: #434B5C;\n",
              "      box-shadow: 0px 1px 3px 1px rgba(0, 0, 0, 0.15);\n",
              "      filter: drop-shadow(0px 1px 2px rgba(0, 0, 0, 0.3));\n",
              "      fill: #FFFFFF;\n",
              "    }\n",
              "  </style>\n",
              "\n",
              "      <script>\n",
              "        const buttonEl =\n",
              "          document.querySelector('#df-2129af06-3053-470a-8902-096dc313d9be button.colab-df-convert');\n",
              "        buttonEl.style.display =\n",
              "          google.colab.kernel.accessAllowed ? 'block' : 'none';\n",
              "\n",
              "        async function convertToInteractive(key) {\n",
              "          const element = document.querySelector('#df-2129af06-3053-470a-8902-096dc313d9be');\n",
              "          const dataTable =\n",
              "            await google.colab.kernel.invokeFunction('convertToInteractive',\n",
              "                                                     [key], {});\n",
              "          if (!dataTable) return;\n",
              "\n",
              "          const docLinkHtml = 'Like what you see? Visit the ' +\n",
              "            '<a target=\"_blank\" href=https://colab.research.google.com/notebooks/data_table.ipynb>data table notebook</a>'\n",
              "            + ' to learn more about interactive tables.';\n",
              "          element.innerHTML = '';\n",
              "          dataTable['output_type'] = 'display_data';\n",
              "          await google.colab.output.renderOutput(dataTable, element);\n",
              "          const docLink = document.createElement('div');\n",
              "          docLink.innerHTML = docLinkHtml;\n",
              "          element.appendChild(docLink);\n",
              "        }\n",
              "      </script>\n",
              "    </div>\n",
              "  </div>\n",
              "  "
            ]
          },
          "metadata": {},
          "execution_count": 28
        }
      ]
    },
    {
      "cell_type": "code",
      "source": [
        "train['Pclass'] = train['Pclass'].astype(str)\n",
        "test['Pclass'] = test['Pclass'].astype(str)"
      ],
      "metadata": {
        "id": "EJh837UjipIL"
      },
      "execution_count": null,
      "outputs": []
    },
    {
      "cell_type": "code",
      "source": [
        "train = pd.get_dummies(train, columns=['Sex','Embarked','Pclass','Title'], drop_first=True)\n",
        "test = pd.get_dummies(test, columns=['Sex','Embarked','Pclass','Title'], drop_first=True)"
      ],
      "metadata": {
        "id": "3tXUXx_oiror"
      },
      "execution_count": null,
      "outputs": []
    },
    {
      "cell_type": "code",
      "source": [
        "train.dtypes"
      ],
      "metadata": {
        "colab": {
          "base_uri": "https://localhost:8080/"
        },
        "id": "FDak8UAtiuTd",
        "outputId": "a3810e7c-3f8d-4424-c84d-9695476f50c6"
      },
      "execution_count": null,
      "outputs": [
        {
          "output_type": "execute_result",
          "data": {
            "text/plain": [
              "Survived                  int64\n",
              "Age                     float64\n",
              "SibSp                     int64\n",
              "Parch                     int64\n",
              "Fare                    float64\n",
              "FamilySize                int64\n",
              "Sex_male                  uint8\n",
              "Embarked_Queenstown       uint8\n",
              "Embarked_Southampton      uint8\n",
              "Pclass_2                  uint8\n",
              "Pclass_3                  uint8\n",
              "Title_Col                 uint8\n",
              "Title_Don                 uint8\n",
              "Title_Dr                  uint8\n",
              "Title_Jonkheer            uint8\n",
              "Title_Lady                uint8\n",
              "Title_Major               uint8\n",
              "Title_Master              uint8\n",
              "Title_Miss                uint8\n",
              "Title_Mlle                uint8\n",
              "Title_Mme                 uint8\n",
              "Title_Mr                  uint8\n",
              "Title_Mrs                 uint8\n",
              "Title_Ms                  uint8\n",
              "Title_Rev                 uint8\n",
              "Title_Sir                 uint8\n",
              "Title_the Countess        uint8\n",
              "dtype: object"
            ]
          },
          "metadata": {},
          "execution_count": 31
        }
      ]
    },
    {
      "cell_type": "code",
      "source": [
        "from sklearn.neighbors import KNeighborsRegressor\n",
        "# train\n",
        "impute_train = train[train.Age.isnull()].drop(['Age'], axis=1)\n",
        "impute_train.describe()\n",
        "# test\n",
        "impute_test = test[test.Age.isnull()].drop(['Age'], axis=1)\n",
        "impute_test.describe()"
      ],
      "metadata": {
        "colab": {
          "base_uri": "https://localhost:8080/",
          "height": 364
        },
        "id": "Bi-YziAOixDV",
        "outputId": "fd2d4f79-d12f-4050-dc3a-078517c1198c"
      },
      "execution_count": null,
      "outputs": [
        {
          "output_type": "execute_result",
          "data": {
            "text/plain": [
              "           SibSp      Parch       Fare  FamilySize   Sex_male  Pclass_2  \\\n",
              "count  86.000000  86.000000  86.000000   86.000000  86.000000  86.00000   \n",
              "mean    0.313953   0.372093  15.017055    0.686047   0.709302   0.05814   \n",
              "std     0.973310   1.471666  14.184527    1.953950   0.456748   0.23538   \n",
              "min     0.000000   0.000000   0.000000    0.000000   0.000000   0.00000   \n",
              "25%     0.000000   0.000000   7.750000    0.000000   0.000000   0.00000   \n",
              "50%     0.000000   0.000000   7.972900    0.000000   1.000000   0.00000   \n",
              "75%     0.000000   0.000000  15.559400    0.000000   1.000000   0.00000   \n",
              "max     8.000000   9.000000  69.550000   10.000000   1.000000   1.00000   \n",
              "\n",
              "        Pclass_3  Title_Dona  Title_Dr  Title_Master  Title_Miss   Title_Mr  \\\n",
              "count  86.000000        86.0      86.0     86.000000   86.000000  86.000000   \n",
              "mean    0.837209         0.0       0.0      0.046512    0.162791   0.662791   \n",
              "std     0.371340         0.0       0.0      0.211825    0.371340   0.475530   \n",
              "min     0.000000         0.0       0.0      0.000000    0.000000   0.000000   \n",
              "25%     1.000000         0.0       0.0      0.000000    0.000000   0.000000   \n",
              "50%     1.000000         0.0       0.0      0.000000    0.000000   1.000000   \n",
              "75%     1.000000         0.0       0.0      0.000000    0.000000   1.000000   \n",
              "max     1.000000         0.0       0.0      1.000000    1.000000   1.000000   \n",
              "\n",
              "       Title_Mrs   Title_Ms  Title_Rev  \n",
              "count  86.000000  86.000000       86.0  \n",
              "mean    0.116279   0.011628        0.0  \n",
              "std     0.322439   0.107833        0.0  \n",
              "min     0.000000   0.000000        0.0  \n",
              "25%     0.000000   0.000000        0.0  \n",
              "50%     0.000000   0.000000        0.0  \n",
              "75%     0.000000   0.000000        0.0  \n",
              "max     1.000000   1.000000        0.0  "
            ],
            "text/html": [
              "\n",
              "  <div id=\"df-295a2c5f-e357-4a5f-90c3-54bf3290984e\">\n",
              "    <div class=\"colab-df-container\">\n",
              "      <div>\n",
              "<style scoped>\n",
              "    .dataframe tbody tr th:only-of-type {\n",
              "        vertical-align: middle;\n",
              "    }\n",
              "\n",
              "    .dataframe tbody tr th {\n",
              "        vertical-align: top;\n",
              "    }\n",
              "\n",
              "    .dataframe thead th {\n",
              "        text-align: right;\n",
              "    }\n",
              "</style>\n",
              "<table border=\"1\" class=\"dataframe\">\n",
              "  <thead>\n",
              "    <tr style=\"text-align: right;\">\n",
              "      <th></th>\n",
              "      <th>SibSp</th>\n",
              "      <th>Parch</th>\n",
              "      <th>Fare</th>\n",
              "      <th>FamilySize</th>\n",
              "      <th>Sex_male</th>\n",
              "      <th>Pclass_2</th>\n",
              "      <th>Pclass_3</th>\n",
              "      <th>Title_Dona</th>\n",
              "      <th>Title_Dr</th>\n",
              "      <th>Title_Master</th>\n",
              "      <th>Title_Miss</th>\n",
              "      <th>Title_Mr</th>\n",
              "      <th>Title_Mrs</th>\n",
              "      <th>Title_Ms</th>\n",
              "      <th>Title_Rev</th>\n",
              "    </tr>\n",
              "  </thead>\n",
              "  <tbody>\n",
              "    <tr>\n",
              "      <th>count</th>\n",
              "      <td>86.000000</td>\n",
              "      <td>86.000000</td>\n",
              "      <td>86.000000</td>\n",
              "      <td>86.000000</td>\n",
              "      <td>86.000000</td>\n",
              "      <td>86.00000</td>\n",
              "      <td>86.000000</td>\n",
              "      <td>86.0</td>\n",
              "      <td>86.0</td>\n",
              "      <td>86.000000</td>\n",
              "      <td>86.000000</td>\n",
              "      <td>86.000000</td>\n",
              "      <td>86.000000</td>\n",
              "      <td>86.000000</td>\n",
              "      <td>86.0</td>\n",
              "    </tr>\n",
              "    <tr>\n",
              "      <th>mean</th>\n",
              "      <td>0.313953</td>\n",
              "      <td>0.372093</td>\n",
              "      <td>15.017055</td>\n",
              "      <td>0.686047</td>\n",
              "      <td>0.709302</td>\n",
              "      <td>0.05814</td>\n",
              "      <td>0.837209</td>\n",
              "      <td>0.0</td>\n",
              "      <td>0.0</td>\n",
              "      <td>0.046512</td>\n",
              "      <td>0.162791</td>\n",
              "      <td>0.662791</td>\n",
              "      <td>0.116279</td>\n",
              "      <td>0.011628</td>\n",
              "      <td>0.0</td>\n",
              "    </tr>\n",
              "    <tr>\n",
              "      <th>std</th>\n",
              "      <td>0.973310</td>\n",
              "      <td>1.471666</td>\n",
              "      <td>14.184527</td>\n",
              "      <td>1.953950</td>\n",
              "      <td>0.456748</td>\n",
              "      <td>0.23538</td>\n",
              "      <td>0.371340</td>\n",
              "      <td>0.0</td>\n",
              "      <td>0.0</td>\n",
              "      <td>0.211825</td>\n",
              "      <td>0.371340</td>\n",
              "      <td>0.475530</td>\n",
              "      <td>0.322439</td>\n",
              "      <td>0.107833</td>\n",
              "      <td>0.0</td>\n",
              "    </tr>\n",
              "    <tr>\n",
              "      <th>min</th>\n",
              "      <td>0.000000</td>\n",
              "      <td>0.000000</td>\n",
              "      <td>0.000000</td>\n",
              "      <td>0.000000</td>\n",
              "      <td>0.000000</td>\n",
              "      <td>0.00000</td>\n",
              "      <td>0.000000</td>\n",
              "      <td>0.0</td>\n",
              "      <td>0.0</td>\n",
              "      <td>0.000000</td>\n",
              "      <td>0.000000</td>\n",
              "      <td>0.000000</td>\n",
              "      <td>0.000000</td>\n",
              "      <td>0.000000</td>\n",
              "      <td>0.0</td>\n",
              "    </tr>\n",
              "    <tr>\n",
              "      <th>25%</th>\n",
              "      <td>0.000000</td>\n",
              "      <td>0.000000</td>\n",
              "      <td>7.750000</td>\n",
              "      <td>0.000000</td>\n",
              "      <td>0.000000</td>\n",
              "      <td>0.00000</td>\n",
              "      <td>1.000000</td>\n",
              "      <td>0.0</td>\n",
              "      <td>0.0</td>\n",
              "      <td>0.000000</td>\n",
              "      <td>0.000000</td>\n",
              "      <td>0.000000</td>\n",
              "      <td>0.000000</td>\n",
              "      <td>0.000000</td>\n",
              "      <td>0.0</td>\n",
              "    </tr>\n",
              "    <tr>\n",
              "      <th>50%</th>\n",
              "      <td>0.000000</td>\n",
              "      <td>0.000000</td>\n",
              "      <td>7.972900</td>\n",
              "      <td>0.000000</td>\n",
              "      <td>1.000000</td>\n",
              "      <td>0.00000</td>\n",
              "      <td>1.000000</td>\n",
              "      <td>0.0</td>\n",
              "      <td>0.0</td>\n",
              "      <td>0.000000</td>\n",
              "      <td>0.000000</td>\n",
              "      <td>1.000000</td>\n",
              "      <td>0.000000</td>\n",
              "      <td>0.000000</td>\n",
              "      <td>0.0</td>\n",
              "    </tr>\n",
              "    <tr>\n",
              "      <th>75%</th>\n",
              "      <td>0.000000</td>\n",
              "      <td>0.000000</td>\n",
              "      <td>15.559400</td>\n",
              "      <td>0.000000</td>\n",
              "      <td>1.000000</td>\n",
              "      <td>0.00000</td>\n",
              "      <td>1.000000</td>\n",
              "      <td>0.0</td>\n",
              "      <td>0.0</td>\n",
              "      <td>0.000000</td>\n",
              "      <td>0.000000</td>\n",
              "      <td>1.000000</td>\n",
              "      <td>0.000000</td>\n",
              "      <td>0.000000</td>\n",
              "      <td>0.0</td>\n",
              "    </tr>\n",
              "    <tr>\n",
              "      <th>max</th>\n",
              "      <td>8.000000</td>\n",
              "      <td>9.000000</td>\n",
              "      <td>69.550000</td>\n",
              "      <td>10.000000</td>\n",
              "      <td>1.000000</td>\n",
              "      <td>1.00000</td>\n",
              "      <td>1.000000</td>\n",
              "      <td>0.0</td>\n",
              "      <td>0.0</td>\n",
              "      <td>1.000000</td>\n",
              "      <td>1.000000</td>\n",
              "      <td>1.000000</td>\n",
              "      <td>1.000000</td>\n",
              "      <td>1.000000</td>\n",
              "      <td>0.0</td>\n",
              "    </tr>\n",
              "  </tbody>\n",
              "</table>\n",
              "</div>\n",
              "      <button class=\"colab-df-convert\" onclick=\"convertToInteractive('df-295a2c5f-e357-4a5f-90c3-54bf3290984e')\"\n",
              "              title=\"Convert this dataframe to an interactive table.\"\n",
              "              style=\"display:none;\">\n",
              "        \n",
              "  <svg xmlns=\"http://www.w3.org/2000/svg\" height=\"24px\"viewBox=\"0 0 24 24\"\n",
              "       width=\"24px\">\n",
              "    <path d=\"M0 0h24v24H0V0z\" fill=\"none\"/>\n",
              "    <path d=\"M18.56 5.44l.94 2.06.94-2.06 2.06-.94-2.06-.94-.94-2.06-.94 2.06-2.06.94zm-11 1L8.5 8.5l.94-2.06 2.06-.94-2.06-.94L8.5 2.5l-.94 2.06-2.06.94zm10 10l.94 2.06.94-2.06 2.06-.94-2.06-.94-.94-2.06-.94 2.06-2.06.94z\"/><path d=\"M17.41 7.96l-1.37-1.37c-.4-.4-.92-.59-1.43-.59-.52 0-1.04.2-1.43.59L10.3 9.45l-7.72 7.72c-.78.78-.78 2.05 0 2.83L4 21.41c.39.39.9.59 1.41.59.51 0 1.02-.2 1.41-.59l7.78-7.78 2.81-2.81c.8-.78.8-2.07 0-2.86zM5.41 20L4 18.59l7.72-7.72 1.47 1.35L5.41 20z\"/>\n",
              "  </svg>\n",
              "      </button>\n",
              "      \n",
              "  <style>\n",
              "    .colab-df-container {\n",
              "      display:flex;\n",
              "      flex-wrap:wrap;\n",
              "      gap: 12px;\n",
              "    }\n",
              "\n",
              "    .colab-df-convert {\n",
              "      background-color: #E8F0FE;\n",
              "      border: none;\n",
              "      border-radius: 50%;\n",
              "      cursor: pointer;\n",
              "      display: none;\n",
              "      fill: #1967D2;\n",
              "      height: 32px;\n",
              "      padding: 0 0 0 0;\n",
              "      width: 32px;\n",
              "    }\n",
              "\n",
              "    .colab-df-convert:hover {\n",
              "      background-color: #E2EBFA;\n",
              "      box-shadow: 0px 1px 2px rgba(60, 64, 67, 0.3), 0px 1px 3px 1px rgba(60, 64, 67, 0.15);\n",
              "      fill: #174EA6;\n",
              "    }\n",
              "\n",
              "    [theme=dark] .colab-df-convert {\n",
              "      background-color: #3B4455;\n",
              "      fill: #D2E3FC;\n",
              "    }\n",
              "\n",
              "    [theme=dark] .colab-df-convert:hover {\n",
              "      background-color: #434B5C;\n",
              "      box-shadow: 0px 1px 3px 1px rgba(0, 0, 0, 0.15);\n",
              "      filter: drop-shadow(0px 1px 2px rgba(0, 0, 0, 0.3));\n",
              "      fill: #FFFFFF;\n",
              "    }\n",
              "  </style>\n",
              "\n",
              "      <script>\n",
              "        const buttonEl =\n",
              "          document.querySelector('#df-295a2c5f-e357-4a5f-90c3-54bf3290984e button.colab-df-convert');\n",
              "        buttonEl.style.display =\n",
              "          google.colab.kernel.accessAllowed ? 'block' : 'none';\n",
              "\n",
              "        async function convertToInteractive(key) {\n",
              "          const element = document.querySelector('#df-295a2c5f-e357-4a5f-90c3-54bf3290984e');\n",
              "          const dataTable =\n",
              "            await google.colab.kernel.invokeFunction('convertToInteractive',\n",
              "                                                     [key], {});\n",
              "          if (!dataTable) return;\n",
              "\n",
              "          const docLinkHtml = 'Like what you see? Visit the ' +\n",
              "            '<a target=\"_blank\" href=https://colab.research.google.com/notebooks/data_table.ipynb>data table notebook</a>'\n",
              "            + ' to learn more about interactive tables.';\n",
              "          element.innerHTML = '';\n",
              "          dataTable['output_type'] = 'display_data';\n",
              "          await google.colab.output.renderOutput(dataTable, element);\n",
              "          const docLink = document.createElement('div');\n",
              "          docLink.innerHTML = docLinkHtml;\n",
              "          element.appendChild(docLink);\n",
              "        }\n",
              "      </script>\n",
              "    </div>\n",
              "  </div>\n",
              "  "
            ]
          },
          "metadata": {},
          "execution_count": 32
        }
      ]
    },
    {
      "cell_type": "code",
      "source": [
        "# train\n",
        "knr = KNeighborsRegressor()\n",
        "titanic_knn_train = train[train.Age.notnull()]\n",
        "X_train = titanic_knn_train.drop(['Age'], axis = 1)\n",
        "y_train = titanic_knn_train.Age\n",
        "knr.fit(X_train, y_train)\n",
        "imputed_train_ages = knr.predict(impute_train)\n",
        "imputed_train_ages\n",
        "# test\n",
        "knr = KNeighborsRegressor()\n",
        "titanic_knn_test = test[test.Age.notnull()]\n",
        "X_test = titanic_knn_test.drop(['Age'], axis = 1)\n",
        "y_test = titanic_knn_test.Age\n",
        "X_test.isnull().sum()\n",
        "knr.fit(X_test, y_test)\n",
        "imputed_test_ages = knr.predict(impute_test)\n",
        "imputed_test_ages"
      ],
      "metadata": {
        "colab": {
          "base_uri": "https://localhost:8080/"
        },
        "id": "o_0Hb_Aki07T",
        "outputId": "e49642c6-e399-42d6-8fbf-0709a7b9eeae"
      },
      "execution_count": null,
      "outputs": [
        {
          "output_type": "execute_result",
          "data": {
            "text/plain": [
              "array([28.2  , 37.2  , 28.8  , 22.   , 23.   , 37.4  , 39.4  , 23.4  ,\n",
              "       33.7  , 32.8  , 27.   , 26.4  , 28.2  , 29.4  , 34.1  , 27.4  ,\n",
              "       25.8  , 26.4  , 23.4  , 23.4  , 22.6  , 25.8  , 23.7  , 23.4  ,\n",
              "       23.4  , 24.8  , 26.384, 22.6  , 41.4  , 39.4  , 28.2  , 24.4  ,\n",
              "       23.7  , 43.6  , 26.6  , 22.5  , 23.4  , 38.1  , 40.   , 28.4  ,\n",
              "       23.7  , 40.   , 23.7  , 23.4  , 26.4  , 18.066, 27.4  , 28.4  ,\n",
              "       28.4  , 19.6  , 26.8  , 26.6  , 23.4  , 28.2  , 26.4  , 26.6  ,\n",
              "       23.   , 23.4  , 15.2  , 23.3  , 27.4  , 30.3  , 22.5  , 26.4  ,\n",
              "       36.4  , 22.5  , 28.8  , 31.4  , 27.4  , 26.6  , 23.3  , 22.5  ,\n",
              "       34.3  ,  5.116, 28.4  , 23.4  , 34.3  , 34.1  , 23.4  , 33.5  ,\n",
              "       28.5  , 24.4  , 27.4  , 26.4  , 26.4  , 16.4  ])"
            ]
          },
          "metadata": {},
          "execution_count": 33
        }
      ]
    },
    {
      "cell_type": "code",
      "source": [
        "# test\n",
        "impute_test['Age'] = imputed_test_ages\n",
        "# train\n",
        "impute_train['Age'] = imputed_train_ages\n",
        "impute_train.head(10)\n"
      ],
      "metadata": {
        "colab": {
          "base_uri": "https://localhost:8080/",
          "height": 474
        },
        "id": "PVEq5Ffii4Sc",
        "outputId": "151f8898-0656-4307-ebf0-82500bff19fe"
      },
      "execution_count": null,
      "outputs": [
        {
          "output_type": "execute_result",
          "data": {
            "text/plain": [
              "    Survived  SibSp  Parch      Fare  FamilySize  Sex_male  \\\n",
              "5          0      0      0    8.4583           0         1   \n",
              "17         1      0      0   13.0000           0         1   \n",
              "19         1      0      0    7.2250           0         0   \n",
              "26         0      0      0    7.2250           0         1   \n",
              "28         1      0      0    7.8792           0         0   \n",
              "29         0      0      0    7.8958           0         1   \n",
              "31         1      1      0  146.5208           1         0   \n",
              "32         1      0      0    7.7500           0         0   \n",
              "36         1      0      0    7.2292           0         1   \n",
              "42         0      0      0    7.8958           0         1   \n",
              "\n",
              "    Embarked_Queenstown  Embarked_Southampton  Pclass_2  Pclass_3  ...  \\\n",
              "5                     1                     0         0         1  ...   \n",
              "17                    0                     1         1         0  ...   \n",
              "19                    0                     0         0         1  ...   \n",
              "26                    0                     0         0         1  ...   \n",
              "28                    1                     0         0         1  ...   \n",
              "29                    0                     1         0         1  ...   \n",
              "31                    0                     0         0         0  ...   \n",
              "32                    1                     0         0         1  ...   \n",
              "36                    0                     0         0         1  ...   \n",
              "42                    0                     0         0         1  ...   \n",
              "\n",
              "    Title_Miss  Title_Mlle  Title_Mme  Title_Mr  Title_Mrs  Title_Ms  \\\n",
              "5            0           0          0         1          0         0   \n",
              "17           0           0          0         1          0         0   \n",
              "19           0           0          0         0          1         0   \n",
              "26           0           0          0         1          0         0   \n",
              "28           1           0          0         0          0         0   \n",
              "29           0           0          0         1          0         0   \n",
              "31           0           0          0         0          1         0   \n",
              "32           1           0          0         0          0         0   \n",
              "36           0           0          0         1          0         0   \n",
              "42           0           0          0         1          0         0   \n",
              "\n",
              "    Title_Rev  Title_Sir  Title_the Countess     Age  \n",
              "5           0          0                   0  47.800  \n",
              "17          0          0                   0  31.200  \n",
              "19          0          0                   0  18.400  \n",
              "26          0          0                   0  32.500  \n",
              "28          0          0                   0  17.600  \n",
              "29          0          0                   0  28.600  \n",
              "31          0          0                   0  21.584  \n",
              "32          0          0                   0  17.600  \n",
              "36          0          0                   0  24.600  \n",
              "42          0          0                   0  28.700  \n",
              "\n",
              "[10 rows x 27 columns]"
            ],
            "text/html": [
              "\n",
              "  <div id=\"df-d56fd7f5-6c5d-411e-aad3-d6830ff0960c\">\n",
              "    <div class=\"colab-df-container\">\n",
              "      <div>\n",
              "<style scoped>\n",
              "    .dataframe tbody tr th:only-of-type {\n",
              "        vertical-align: middle;\n",
              "    }\n",
              "\n",
              "    .dataframe tbody tr th {\n",
              "        vertical-align: top;\n",
              "    }\n",
              "\n",
              "    .dataframe thead th {\n",
              "        text-align: right;\n",
              "    }\n",
              "</style>\n",
              "<table border=\"1\" class=\"dataframe\">\n",
              "  <thead>\n",
              "    <tr style=\"text-align: right;\">\n",
              "      <th></th>\n",
              "      <th>Survived</th>\n",
              "      <th>SibSp</th>\n",
              "      <th>Parch</th>\n",
              "      <th>Fare</th>\n",
              "      <th>FamilySize</th>\n",
              "      <th>Sex_male</th>\n",
              "      <th>Embarked_Queenstown</th>\n",
              "      <th>Embarked_Southampton</th>\n",
              "      <th>Pclass_2</th>\n",
              "      <th>Pclass_3</th>\n",
              "      <th>...</th>\n",
              "      <th>Title_Miss</th>\n",
              "      <th>Title_Mlle</th>\n",
              "      <th>Title_Mme</th>\n",
              "      <th>Title_Mr</th>\n",
              "      <th>Title_Mrs</th>\n",
              "      <th>Title_Ms</th>\n",
              "      <th>Title_Rev</th>\n",
              "      <th>Title_Sir</th>\n",
              "      <th>Title_the Countess</th>\n",
              "      <th>Age</th>\n",
              "    </tr>\n",
              "  </thead>\n",
              "  <tbody>\n",
              "    <tr>\n",
              "      <th>5</th>\n",
              "      <td>0</td>\n",
              "      <td>0</td>\n",
              "      <td>0</td>\n",
              "      <td>8.4583</td>\n",
              "      <td>0</td>\n",
              "      <td>1</td>\n",
              "      <td>1</td>\n",
              "      <td>0</td>\n",
              "      <td>0</td>\n",
              "      <td>1</td>\n",
              "      <td>...</td>\n",
              "      <td>0</td>\n",
              "      <td>0</td>\n",
              "      <td>0</td>\n",
              "      <td>1</td>\n",
              "      <td>0</td>\n",
              "      <td>0</td>\n",
              "      <td>0</td>\n",
              "      <td>0</td>\n",
              "      <td>0</td>\n",
              "      <td>47.800</td>\n",
              "    </tr>\n",
              "    <tr>\n",
              "      <th>17</th>\n",
              "      <td>1</td>\n",
              "      <td>0</td>\n",
              "      <td>0</td>\n",
              "      <td>13.0000</td>\n",
              "      <td>0</td>\n",
              "      <td>1</td>\n",
              "      <td>0</td>\n",
              "      <td>1</td>\n",
              "      <td>1</td>\n",
              "      <td>0</td>\n",
              "      <td>...</td>\n",
              "      <td>0</td>\n",
              "      <td>0</td>\n",
              "      <td>0</td>\n",
              "      <td>1</td>\n",
              "      <td>0</td>\n",
              "      <td>0</td>\n",
              "      <td>0</td>\n",
              "      <td>0</td>\n",
              "      <td>0</td>\n",
              "      <td>31.200</td>\n",
              "    </tr>\n",
              "    <tr>\n",
              "      <th>19</th>\n",
              "      <td>1</td>\n",
              "      <td>0</td>\n",
              "      <td>0</td>\n",
              "      <td>7.2250</td>\n",
              "      <td>0</td>\n",
              "      <td>0</td>\n",
              "      <td>0</td>\n",
              "      <td>0</td>\n",
              "      <td>0</td>\n",
              "      <td>1</td>\n",
              "      <td>...</td>\n",
              "      <td>0</td>\n",
              "      <td>0</td>\n",
              "      <td>0</td>\n",
              "      <td>0</td>\n",
              "      <td>1</td>\n",
              "      <td>0</td>\n",
              "      <td>0</td>\n",
              "      <td>0</td>\n",
              "      <td>0</td>\n",
              "      <td>18.400</td>\n",
              "    </tr>\n",
              "    <tr>\n",
              "      <th>26</th>\n",
              "      <td>0</td>\n",
              "      <td>0</td>\n",
              "      <td>0</td>\n",
              "      <td>7.2250</td>\n",
              "      <td>0</td>\n",
              "      <td>1</td>\n",
              "      <td>0</td>\n",
              "      <td>0</td>\n",
              "      <td>0</td>\n",
              "      <td>1</td>\n",
              "      <td>...</td>\n",
              "      <td>0</td>\n",
              "      <td>0</td>\n",
              "      <td>0</td>\n",
              "      <td>1</td>\n",
              "      <td>0</td>\n",
              "      <td>0</td>\n",
              "      <td>0</td>\n",
              "      <td>0</td>\n",
              "      <td>0</td>\n",
              "      <td>32.500</td>\n",
              "    </tr>\n",
              "    <tr>\n",
              "      <th>28</th>\n",
              "      <td>1</td>\n",
              "      <td>0</td>\n",
              "      <td>0</td>\n",
              "      <td>7.8792</td>\n",
              "      <td>0</td>\n",
              "      <td>0</td>\n",
              "      <td>1</td>\n",
              "      <td>0</td>\n",
              "      <td>0</td>\n",
              "      <td>1</td>\n",
              "      <td>...</td>\n",
              "      <td>1</td>\n",
              "      <td>0</td>\n",
              "      <td>0</td>\n",
              "      <td>0</td>\n",
              "      <td>0</td>\n",
              "      <td>0</td>\n",
              "      <td>0</td>\n",
              "      <td>0</td>\n",
              "      <td>0</td>\n",
              "      <td>17.600</td>\n",
              "    </tr>\n",
              "    <tr>\n",
              "      <th>29</th>\n",
              "      <td>0</td>\n",
              "      <td>0</td>\n",
              "      <td>0</td>\n",
              "      <td>7.8958</td>\n",
              "      <td>0</td>\n",
              "      <td>1</td>\n",
              "      <td>0</td>\n",
              "      <td>1</td>\n",
              "      <td>0</td>\n",
              "      <td>1</td>\n",
              "      <td>...</td>\n",
              "      <td>0</td>\n",
              "      <td>0</td>\n",
              "      <td>0</td>\n",
              "      <td>1</td>\n",
              "      <td>0</td>\n",
              "      <td>0</td>\n",
              "      <td>0</td>\n",
              "      <td>0</td>\n",
              "      <td>0</td>\n",
              "      <td>28.600</td>\n",
              "    </tr>\n",
              "    <tr>\n",
              "      <th>31</th>\n",
              "      <td>1</td>\n",
              "      <td>1</td>\n",
              "      <td>0</td>\n",
              "      <td>146.5208</td>\n",
              "      <td>1</td>\n",
              "      <td>0</td>\n",
              "      <td>0</td>\n",
              "      <td>0</td>\n",
              "      <td>0</td>\n",
              "      <td>0</td>\n",
              "      <td>...</td>\n",
              "      <td>0</td>\n",
              "      <td>0</td>\n",
              "      <td>0</td>\n",
              "      <td>0</td>\n",
              "      <td>1</td>\n",
              "      <td>0</td>\n",
              "      <td>0</td>\n",
              "      <td>0</td>\n",
              "      <td>0</td>\n",
              "      <td>21.584</td>\n",
              "    </tr>\n",
              "    <tr>\n",
              "      <th>32</th>\n",
              "      <td>1</td>\n",
              "      <td>0</td>\n",
              "      <td>0</td>\n",
              "      <td>7.7500</td>\n",
              "      <td>0</td>\n",
              "      <td>0</td>\n",
              "      <td>1</td>\n",
              "      <td>0</td>\n",
              "      <td>0</td>\n",
              "      <td>1</td>\n",
              "      <td>...</td>\n",
              "      <td>1</td>\n",
              "      <td>0</td>\n",
              "      <td>0</td>\n",
              "      <td>0</td>\n",
              "      <td>0</td>\n",
              "      <td>0</td>\n",
              "      <td>0</td>\n",
              "      <td>0</td>\n",
              "      <td>0</td>\n",
              "      <td>17.600</td>\n",
              "    </tr>\n",
              "    <tr>\n",
              "      <th>36</th>\n",
              "      <td>1</td>\n",
              "      <td>0</td>\n",
              "      <td>0</td>\n",
              "      <td>7.2292</td>\n",
              "      <td>0</td>\n",
              "      <td>1</td>\n",
              "      <td>0</td>\n",
              "      <td>0</td>\n",
              "      <td>0</td>\n",
              "      <td>1</td>\n",
              "      <td>...</td>\n",
              "      <td>0</td>\n",
              "      <td>0</td>\n",
              "      <td>0</td>\n",
              "      <td>1</td>\n",
              "      <td>0</td>\n",
              "      <td>0</td>\n",
              "      <td>0</td>\n",
              "      <td>0</td>\n",
              "      <td>0</td>\n",
              "      <td>24.600</td>\n",
              "    </tr>\n",
              "    <tr>\n",
              "      <th>42</th>\n",
              "      <td>0</td>\n",
              "      <td>0</td>\n",
              "      <td>0</td>\n",
              "      <td>7.8958</td>\n",
              "      <td>0</td>\n",
              "      <td>1</td>\n",
              "      <td>0</td>\n",
              "      <td>0</td>\n",
              "      <td>0</td>\n",
              "      <td>1</td>\n",
              "      <td>...</td>\n",
              "      <td>0</td>\n",
              "      <td>0</td>\n",
              "      <td>0</td>\n",
              "      <td>1</td>\n",
              "      <td>0</td>\n",
              "      <td>0</td>\n",
              "      <td>0</td>\n",
              "      <td>0</td>\n",
              "      <td>0</td>\n",
              "      <td>28.700</td>\n",
              "    </tr>\n",
              "  </tbody>\n",
              "</table>\n",
              "<p>10 rows × 27 columns</p>\n",
              "</div>\n",
              "      <button class=\"colab-df-convert\" onclick=\"convertToInteractive('df-d56fd7f5-6c5d-411e-aad3-d6830ff0960c')\"\n",
              "              title=\"Convert this dataframe to an interactive table.\"\n",
              "              style=\"display:none;\">\n",
              "        \n",
              "  <svg xmlns=\"http://www.w3.org/2000/svg\" height=\"24px\"viewBox=\"0 0 24 24\"\n",
              "       width=\"24px\">\n",
              "    <path d=\"M0 0h24v24H0V0z\" fill=\"none\"/>\n",
              "    <path d=\"M18.56 5.44l.94 2.06.94-2.06 2.06-.94-2.06-.94-.94-2.06-.94 2.06-2.06.94zm-11 1L8.5 8.5l.94-2.06 2.06-.94-2.06-.94L8.5 2.5l-.94 2.06-2.06.94zm10 10l.94 2.06.94-2.06 2.06-.94-2.06-.94-.94-2.06-.94 2.06-2.06.94z\"/><path d=\"M17.41 7.96l-1.37-1.37c-.4-.4-.92-.59-1.43-.59-.52 0-1.04.2-1.43.59L10.3 9.45l-7.72 7.72c-.78.78-.78 2.05 0 2.83L4 21.41c.39.39.9.59 1.41.59.51 0 1.02-.2 1.41-.59l7.78-7.78 2.81-2.81c.8-.78.8-2.07 0-2.86zM5.41 20L4 18.59l7.72-7.72 1.47 1.35L5.41 20z\"/>\n",
              "  </svg>\n",
              "      </button>\n",
              "      \n",
              "  <style>\n",
              "    .colab-df-container {\n",
              "      display:flex;\n",
              "      flex-wrap:wrap;\n",
              "      gap: 12px;\n",
              "    }\n",
              "\n",
              "    .colab-df-convert {\n",
              "      background-color: #E8F0FE;\n",
              "      border: none;\n",
              "      border-radius: 50%;\n",
              "      cursor: pointer;\n",
              "      display: none;\n",
              "      fill: #1967D2;\n",
              "      height: 32px;\n",
              "      padding: 0 0 0 0;\n",
              "      width: 32px;\n",
              "    }\n",
              "\n",
              "    .colab-df-convert:hover {\n",
              "      background-color: #E2EBFA;\n",
              "      box-shadow: 0px 1px 2px rgba(60, 64, 67, 0.3), 0px 1px 3px 1px rgba(60, 64, 67, 0.15);\n",
              "      fill: #174EA6;\n",
              "    }\n",
              "\n",
              "    [theme=dark] .colab-df-convert {\n",
              "      background-color: #3B4455;\n",
              "      fill: #D2E3FC;\n",
              "    }\n",
              "\n",
              "    [theme=dark] .colab-df-convert:hover {\n",
              "      background-color: #434B5C;\n",
              "      box-shadow: 0px 1px 3px 1px rgba(0, 0, 0, 0.15);\n",
              "      filter: drop-shadow(0px 1px 2px rgba(0, 0, 0, 0.3));\n",
              "      fill: #FFFFFF;\n",
              "    }\n",
              "  </style>\n",
              "\n",
              "      <script>\n",
              "        const buttonEl =\n",
              "          document.querySelector('#df-d56fd7f5-6c5d-411e-aad3-d6830ff0960c button.colab-df-convert');\n",
              "        buttonEl.style.display =\n",
              "          google.colab.kernel.accessAllowed ? 'block' : 'none';\n",
              "\n",
              "        async function convertToInteractive(key) {\n",
              "          const element = document.querySelector('#df-d56fd7f5-6c5d-411e-aad3-d6830ff0960c');\n",
              "          const dataTable =\n",
              "            await google.colab.kernel.invokeFunction('convertToInteractive',\n",
              "                                                     [key], {});\n",
              "          if (!dataTable) return;\n",
              "\n",
              "          const docLinkHtml = 'Like what you see? Visit the ' +\n",
              "            '<a target=\"_blank\" href=https://colab.research.google.com/notebooks/data_table.ipynb>data table notebook</a>'\n",
              "            + ' to learn more about interactive tables.';\n",
              "          element.innerHTML = '';\n",
              "          dataTable['output_type'] = 'display_data';\n",
              "          await google.colab.output.renderOutput(dataTable, element);\n",
              "          const docLink = document.createElement('div');\n",
              "          docLink.innerHTML = docLinkHtml;\n",
              "          element.appendChild(docLink);\n",
              "        }\n",
              "      </script>\n",
              "    </div>\n",
              "  </div>\n",
              "  "
            ]
          },
          "metadata": {},
          "execution_count": 35
        }
      ]
    },
    {
      "cell_type": "code",
      "source": [
        "# train\n",
        "titanic_train_imputed = pd.concat([titanic_knn_train, impute_train], sort=False, axis=0)\n",
        "train = titanic_train_imputed\n",
        "# test\n",
        "titanic_test_imputed = pd.concat([titanic_knn_test, impute_test], sort=False, axis=0)\n",
        "test = titanic_test_imputed"
      ],
      "metadata": {
        "id": "kk6k08QkjCoD"
      },
      "execution_count": null,
      "outputs": []
    },
    {
      "cell_type": "code",
      "source": [
        "train.isnull().sum()"
      ],
      "metadata": {
        "colab": {
          "base_uri": "https://localhost:8080/"
        },
        "id": "llg8sqB1jGGD",
        "outputId": "d4479847-9925-4a02-9c3f-be33125a5a83"
      },
      "execution_count": null,
      "outputs": [
        {
          "output_type": "execute_result",
          "data": {
            "text/plain": [
              "Survived                0\n",
              "Age                     0\n",
              "SibSp                   0\n",
              "Parch                   0\n",
              "Fare                    0\n",
              "FamilySize              0\n",
              "Sex_male                0\n",
              "Embarked_Queenstown     0\n",
              "Embarked_Southampton    0\n",
              "Pclass_2                0\n",
              "Pclass_3                0\n",
              "Title_Col               0\n",
              "Title_Don               0\n",
              "Title_Dr                0\n",
              "Title_Jonkheer          0\n",
              "Title_Lady              0\n",
              "Title_Major             0\n",
              "Title_Master            0\n",
              "Title_Miss              0\n",
              "Title_Mlle              0\n",
              "Title_Mme               0\n",
              "Title_Mr                0\n",
              "Title_Mrs               0\n",
              "Title_Ms                0\n",
              "Title_Rev               0\n",
              "Title_Sir               0\n",
              "Title_the Countess      0\n",
              "dtype: int64"
            ]
          },
          "metadata": {},
          "execution_count": 37
        }
      ]
    },
    {
      "cell_type": "code",
      "source": [
        "train['Age'].describe()"
      ],
      "metadata": {
        "colab": {
          "base_uri": "https://localhost:8080/"
        },
        "id": "CK3NhPb1jJ-y",
        "outputId": "2785b592-82a6-45fa-86e9-70481b57bad6"
      },
      "execution_count": null,
      "outputs": [
        {
          "output_type": "execute_result",
          "data": {
            "text/plain": [
              "count    889.000000\n",
              "mean      29.945226\n",
              "std       13.728144\n",
              "min        0.420000\n",
              "25%       21.000000\n",
              "50%       28.600000\n",
              "75%       38.000000\n",
              "max       80.000000\n",
              "Name: Age, dtype: float64"
            ]
          },
          "metadata": {},
          "execution_count": 38
        }
      ]
    },
    {
      "cell_type": "code",
      "source": [
        "# train\n",
        "train['Age'] = np.round(train['Age']).astype(int)\n",
        "# test\n",
        "test['Age'] = np.round(test['Age']).astype(int)"
      ],
      "metadata": {
        "id": "wEWBc4OdjL6i"
      },
      "execution_count": null,
      "outputs": []
    },
    {
      "cell_type": "code",
      "source": [
        "train['Age'].value_counts()"
      ],
      "metadata": {
        "colab": {
          "base_uri": "https://localhost:8080/"
        },
        "id": "jbDdCMm4jOV7",
        "outputId": "f56c8999-03a1-4235-e790-b35a7de32bec"
      },
      "execution_count": null,
      "outputs": [
        {
          "output_type": "execute_result",
          "data": {
            "text/plain": [
              "18    43\n",
              "28    41\n",
              "29    38\n",
              "30    37\n",
              "24    34\n",
              "      ..\n",
              "0      1\n",
              "12     1\n",
              "53     1\n",
              "66     1\n",
              "74     1\n",
              "Name: Age, Length: 71, dtype: int64"
            ]
          },
          "metadata": {},
          "execution_count": 40
        }
      ]
    },
    {
      "cell_type": "code",
      "source": [
        "# train\n",
        "train.to_csv('./train_processed.csv')\n",
        "# test\n",
        "test.to_csv('./test_processed.csv')"
      ],
      "metadata": {
        "id": "swhostiFjRB0"
      },
      "execution_count": null,
      "outputs": []
    },
    {
      "cell_type": "code",
      "source": [
        "plt.figure(figsize = (12,10))\n",
        "train.corr()['Survived'].sort_values(ascending = True).plot(kind = 'barh')"
      ],
      "metadata": {
        "colab": {
          "base_uri": "https://localhost:8080/",
          "height": 614
        },
        "id": "VgvfN-K3jTOD",
        "outputId": "c015b759-d4ce-4f60-f58d-f629d0d0548f"
      },
      "execution_count": null,
      "outputs": [
        {
          "output_type": "execute_result",
          "data": {
            "text/plain": [
              "<matplotlib.axes._subplots.AxesSubplot at 0x7f11d88211d0>"
            ]
          },
          "metadata": {},
          "execution_count": 42
        },
        {
          "output_type": "display_data",
          "data": {
            "text/plain": [
              "<Figure size 864x720 with 1 Axes>"
            ],
            "image/png": "[encoded data removed]"
          },
          "metadata": {}
        }
      ]
    },
    {
      "cell_type": "code",
      "source": [
        "plt.figure(figsize = (12,10))\n",
        "train.corr()['Survived'].sort_values(ascending = True).plot(kind = 'barh')\n",
        "top_6 = train.corr()['Survived'].sort_values(ascending = False).keys()[0:7]\n",
        "print (top_6)\n",
        "\n"
      ],
      "metadata": {
        "colab": {
          "base_uri": "https://localhost:8080/",
          "height": 649
        },
        "id": "o8N25ZAljWYr",
        "outputId": "77d9f7ea-8b8f-4ea3-b723-2ba7a2d34e5a"
      },
      "execution_count": null,
      "outputs": [
        {
          "output_type": "stream",
          "name": "stdout",
          "text": [
            "Index(['Survived', 'Title_Mrs', 'Title_Miss', 'Fare', 'Pclass_2',\n",
            "       'Title_Master', 'Parch'],\n",
            "      dtype='object')\n"
          ]
        },
        {
          "output_type": "display_data",
          "data": {
            "text/plain": [
              "<Figure size 864x720 with 1 Axes>"
            ],
            "image/png": "[encoded data removed]"
          },
          "metadata": {}
        }
      ]
    },
    {
      "cell_type": "code",
      "source": [
        "top_6_train = train.loc[:,top_6].copy()\n",
        "top_6_train.head()\n",
        "sns.pairplot(top_6_train)\n",
        "top_6_train['Survived'].hist(bins=40)\n",
        "top_6_train.describe()"
      ],
      "metadata": {
        "colab": {
          "base_uri": "https://localhost:8080/",
          "height": 1000
        },
        "id": "Se_zoDa4kBrZ",
        "outputId": "52c3459a-919d-4657-9ccf-faaf980b1979"
      },
      "execution_count": null,
      "outputs": [
        {
          "output_type": "execute_result",
          "data": {
            "text/plain": [
              "         Survived   Title_Mrs  Title_Miss        Fare    Pclass_2  \\\n",
              "count  889.000000  889.000000  889.000000  889.000000  889.000000   \n",
              "mean     0.382452    0.139483    0.203600   32.096681    0.206974   \n",
              "std      0.486260    0.346644    0.402901   49.697504    0.405365   \n",
              "min      0.000000    0.000000    0.000000    0.000000    0.000000   \n",
              "25%      0.000000    0.000000    0.000000    7.895800    0.000000   \n",
              "50%      0.000000    0.000000    0.000000   14.454200    0.000000   \n",
              "75%      1.000000    0.000000    0.000000   31.000000    0.000000   \n",
              "max      1.000000    1.000000    1.000000  512.329200    1.000000   \n",
              "\n",
              "       Title_Master       Parch  \n",
              "count    889.000000  889.000000  \n",
              "mean       0.044994    0.382452  \n",
              "std        0.207408    0.806761  \n",
              "min        0.000000    0.000000  \n",
              "25%        0.000000    0.000000  \n",
              "50%        0.000000    0.000000  \n",
              "75%        0.000000    0.000000  \n",
              "max        1.000000    6.000000  "
            ],
            "text/html": [
              "\n",
              "  <div id=\"df-c5952b65-5f0b-42ba-a943-57b323dcf83d\">\n",
              "    <div class=\"colab-df-container\">\n",
              "      <div>\n",
              "<style scoped>\n",
              "    .dataframe tbody tr th:only-of-type {\n",
              "        vertical-align: middle;\n",
              "    }\n",
              "\n",
              "    .dataframe tbody tr th {\n",
              "        vertical-align: top;\n",
              "    }\n",
              "\n",
              "    .dataframe thead th {\n",
              "        text-align: right;\n",
              "    }\n",
              "</style>\n",
              "<table border=\"1\" class=\"dataframe\">\n",
              "  <thead>\n",
              "    <tr style=\"text-align: right;\">\n",
              "      <th></th>\n",
              "      <th>Survived</th>\n",
              "      <th>Title_Mrs</th>\n",
              "      <th>Title_Miss</th>\n",
              "      <th>Fare</th>\n",
              "      <th>Pclass_2</th>\n",
              "      <th>Title_Master</th>\n",
              "      <th>Parch</th>\n",
              "    </tr>\n",
              "  </thead>\n",
              "  <tbody>\n",
              "    <tr>\n",
              "      <th>count</th>\n",
              "      <td>889.000000</td>\n",
              "      <td>889.000000</td>\n",
              "      <td>889.000000</td>\n",
              "      <td>889.000000</td>\n",
              "      <td>889.000000</td>\n",
              "      <td>889.000000</td>\n",
              "      <td>889.000000</td>\n",
              "    </tr>\n",
              "    <tr>\n",
              "      <th>mean</th>\n",
              "      <td>0.382452</td>\n",
              "      <td>0.139483</td>\n",
              "      <td>0.203600</td>\n",
              "      <td>32.096681</td>\n",
              "      <td>0.206974</td>\n",
              "      <td>0.044994</td>\n",
              "      <td>0.382452</td>\n",
              "    </tr>\n",
              "    <tr>\n",
              "      <th>std</th>\n",
              "      <td>0.486260</td>\n",
              "      <td>0.346644</td>\n",
              "      <td>0.402901</td>\n",
              "      <td>49.697504</td>\n",
              "      <td>0.405365</td>\n",
              "      <td>0.207408</td>\n",
              "      <td>0.806761</td>\n",
              "    </tr>\n",
              "    <tr>\n",
              "      <th>min</th>\n",
              "      <td>0.000000</td>\n",
              "      <td>0.000000</td>\n",
              "      <td>0.000000</td>\n",
              "      <td>0.000000</td>\n",
              "      <td>0.000000</td>\n",
              "      <td>0.000000</td>\n",
              "      <td>0.000000</td>\n",
              "    </tr>\n",
              "    <tr>\n",
              "      <th>25%</th>\n",
              "      <td>0.000000</td>\n",
              "      <td>0.000000</td>\n",
              "      <td>0.000000</td>\n",
              "      <td>7.895800</td>\n",
              "      <td>0.000000</td>\n",
              "      <td>0.000000</td>\n",
              "      <td>0.000000</td>\n",
              "    </tr>\n",
              "    <tr>\n",
              "      <th>50%</th>\n",
              "      <td>0.000000</td>\n",
              "      <td>0.000000</td>\n",
              "      <td>0.000000</td>\n",
              "      <td>14.454200</td>\n",
              "      <td>0.000000</td>\n",
              "      <td>0.000000</td>\n",
              "      <td>0.000000</td>\n",
              "    </tr>\n",
              "    <tr>\n",
              "      <th>75%</th>\n",
              "      <td>1.000000</td>\n",
              "      <td>0.000000</td>\n",
              "      <td>0.000000</td>\n",
              "      <td>31.000000</td>\n",
              "      <td>0.000000</td>\n",
              "      <td>0.000000</td>\n",
              "      <td>0.000000</td>\n",
              "    </tr>\n",
              "    <tr>\n",
              "      <th>max</th>\n",
              "      <td>1.000000</td>\n",
              "      <td>1.000000</td>\n",
              "      <td>1.000000</td>\n",
              "      <td>512.329200</td>\n",
              "      <td>1.000000</td>\n",
              "      <td>1.000000</td>\n",
              "      <td>6.000000</td>\n",
              "    </tr>\n",
              "  </tbody>\n",
              "</table>\n",
              "</div>\n",
              "      <button class=\"colab-df-convert\" onclick=\"convertToInteractive('df-c5952b65-5f0b-42ba-a943-57b323dcf83d')\"\n",
              "              title=\"Convert this dataframe to an interactive table.\"\n",
              "              style=\"display:none;\">\n",
              "        \n",
              "  <svg xmlns=\"http://www.w3.org/2000/svg\" height=\"24px\"viewBox=\"0 0 24 24\"\n",
              "       width=\"24px\">\n",
              "    <path d=\"M0 0h24v24H0V0z\" fill=\"none\"/>\n",
              "    <path d=\"M18.56 5.44l.94 2.06.94-2.06 2.06-.94-2.06-.94-.94-2.06-.94 2.06-2.06.94zm-11 1L8.5 8.5l.94-2.06 2.06-.94-2.06-.94L8.5 2.5l-.94 2.06-2.06.94zm10 10l.94 2.06.94-2.06 2.06-.94-2.06-.94-.94-2.06-.94 2.06-2.06.94z\"/><path d=\"M17.41 7.96l-1.37-1.37c-.4-.4-.92-.59-1.43-.59-.52 0-1.04.2-1.43.59L10.3 9.45l-7.72 7.72c-.78.78-.78 2.05 0 2.83L4 21.41c.39.39.9.59 1.41.59.51 0 1.02-.2 1.41-.59l7.78-7.78 2.81-2.81c.8-.78.8-2.07 0-2.86zM5.41 20L4 18.59l7.72-7.72 1.47 1.35L5.41 20z\"/>\n",
              "  </svg>\n",
              "      </button>\n",
              "      \n",
              "  <style>\n",
              "    .colab-df-container {\n",
              "      display:flex;\n",
              "      flex-wrap:wrap;\n",
              "      gap: 12px;\n",
              "    }\n",
              "\n",
              "    .colab-df-convert {\n",
              "      background-color: #E8F0FE;\n",
              "      border: none;\n",
              "      border-radius: 50%;\n",
              "      cursor: pointer;\n",
              "      display: none;\n",
              "      fill: #1967D2;\n",
              "      height: 32px;\n",
              "      padding: 0 0 0 0;\n",
              "      width: 32px;\n",
              "    }\n",
              "\n",
              "    .colab-df-convert:hover {\n",
              "      background-color: #E2EBFA;\n",
              "      box-shadow: 0px 1px 2px rgba(60, 64, 67, 0.3), 0px 1px 3px 1px rgba(60, 64, 67, 0.15);\n",
              "      fill: #174EA6;\n",
              "    }\n",
              "\n",
              "    [theme=dark] .colab-df-convert {\n",
              "      background-color: #3B4455;\n",
              "      fill: #D2E3FC;\n",
              "    }\n",
              "\n",
              "    [theme=dark] .colab-df-convert:hover {\n",
              "      background-color: #434B5C;\n",
              "      box-shadow: 0px 1px 3px 1px rgba(0, 0, 0, 0.15);\n",
              "      filter: drop-shadow(0px 1px 2px rgba(0, 0, 0, 0.3));\n",
              "      fill: #FFFFFF;\n",
              "    }\n",
              "  </style>\n",
              "\n",
              "      <script>\n",
              "        const buttonEl =\n",
              "          document.querySelector('#df-c5952b65-5f0b-42ba-a943-57b323dcf83d button.colab-df-convert');\n",
              "        buttonEl.style.display =\n",
              "          google.colab.kernel.accessAllowed ? 'block' : 'none';\n",
              "\n",
              "        async function convertToInteractive(key) {\n",
              "          const element = document.querySelector('#df-c5952b65-5f0b-42ba-a943-57b323dcf83d');\n",
              "          const dataTable =\n",
              "            await google.colab.kernel.invokeFunction('convertToInteractive',\n",
              "                                                     [key], {});\n",
              "          if (!dataTable) return;\n",
              "\n",
              "          const docLinkHtml = 'Like what you see? Visit the ' +\n",
              "            '<a target=\"_blank\" href=https://colab.research.google.com/notebooks/data_table.ipynb>data table notebook</a>'\n",
              "            + ' to learn more about interactive tables.';\n",
              "          element.innerHTML = '';\n",
              "          dataTable['output_type'] = 'display_data';\n",
              "          await google.colab.output.renderOutput(dataTable, element);\n",
              "          const docLink = document.createElement('div');\n",
              "          docLink.innerHTML = docLinkHtml;\n",
              "          element.appendChild(docLink);\n",
              "        }\n",
              "      </script>\n",
              "    </div>\n",
              "  </div>\n",
              "  "
            ]
          },
          "metadata": {},
          "execution_count": 48
        },
        {
          "output_type": "display_data",
          "data": {
            "text/plain": [
              "<Figure size 1260x1260 with 56 Axes>"
            ],
            "image/png": "[encoded data removed]"
          },
          "metadata": {}
        }
      ]
    },
    {
      "cell_type": "code",
      "source": [
        "from sklearn.linear_model import LogisticRegression\n",
        "from sklearn.tree import DecisionTreeClassifier\n",
        "from sklearn.model_selection import train_test_split\n",
        "from sklearn import preprocessing"
      ],
      "metadata": {
        "id": "_vyE_RM1kFrw"
      },
      "execution_count": null,
      "outputs": []
    },
    {
      "cell_type": "code",
      "source": [
        "train.columns"
      ],
      "metadata": {
        "colab": {
          "base_uri": "https://localhost:8080/"
        },
        "id": "huvN_m8ykIGI",
        "outputId": "3e134f2e-8bd3-4d57-df92-8843dce5fed6"
      },
      "execution_count": null,
      "outputs": [
        {
          "output_type": "execute_result",
          "data": {
            "text/plain": [
              "Index(['Survived', 'Age', 'SibSp', 'Parch', 'Fare', 'FamilySize', 'Sex_male',\n",
              "       'Embarked_Queenstown', 'Embarked_Southampton', 'Pclass_2', 'Pclass_3',\n",
              "       'Title_Col', 'Title_Don', 'Title_Dr', 'Title_Jonkheer', 'Title_Lady',\n",
              "       'Title_Major', 'Title_Master', 'Title_Miss', 'Title_Mlle', 'Title_Mme',\n",
              "       'Title_Mr', 'Title_Mrs', 'Title_Ms', 'Title_Rev', 'Title_Sir',\n",
              "       'Title_the Countess'],\n",
              "      dtype='object')"
            ]
          },
          "metadata": {},
          "execution_count": 50
        }
      ]
    },
    {
      "cell_type": "code",
      "source": [
        "y = train['Survived']\n",
        "X = train.loc[:, ['Age', 'SibSp', 'Parch', 'Fare', 'FamilySize', 'Sex_male', 'Embarked_Queenstown', 'Embarked_Southampton', 'Pclass_2', 'Pclass_3', 'Title_Col', 'Title_Don', 'Title_Dr', 'Title_Jonkheer', 'Title_Lady', 'Title_Major', 'Title_Master', 'Title_Miss', 'Title_Mlle', 'Title_Mme', 'Title_Mr', 'Title_Mrs', 'Title_Ms', 'Title_Rev', 'Title_Sir', 'Title_the Countess']]"
      ],
      "metadata": {
        "id": "WrFtAO5xkKaC"
      },
      "execution_count": null,
      "outputs": []
    },
    {
      "cell_type": "code",
      "source": [
        "X_train, X_test, y_train, y_test = train_test_split(X, y, test_size=0.3, random_state=1)"
      ],
      "metadata": {
        "id": "KG-34b1fkNXn"
      },
      "execution_count": null,
      "outputs": []
    },
    {
      "cell_type": "code",
      "source": [
        "X.shape, y.shape\n",
        "((889, 28), (889,))"
      ],
      "metadata": {
        "colab": {
          "base_uri": "https://localhost:8080/"
        },
        "id": "pHRGOGtxkQBv",
        "outputId": "6e3e0bda-1a2e-46bd-a2a8-7f9df69a661b"
      },
      "execution_count": null,
      "outputs": [
        {
          "output_type": "execute_result",
          "data": {
            "text/plain": [
              "((889, 28), (889,))"
            ]
          },
          "metadata": {},
          "execution_count": 53
        }
      ]
    },
    {
      "cell_type": "code",
      "source": [
        "X_train.shape, y_train.shape\n",
        "((622, 28), (622,))"
      ],
      "metadata": {
        "colab": {
          "base_uri": "https://localhost:8080/"
        },
        "id": "vjrusT5IkRk3",
        "outputId": "f54af334-e524-4f86-c8e5-236c0664bbcd"
      },
      "execution_count": null,
      "outputs": [
        {
          "output_type": "execute_result",
          "data": {
            "text/plain": [
              "((622, 28), (622,))"
            ]
          },
          "metadata": {},
          "execution_count": 54
        }
      ]
    },
    {
      "cell_type": "code",
      "source": [
        "X_test.shape, y_test.shape\n",
        "((267, 26), (267,))"
      ],
      "metadata": {
        "colab": {
          "base_uri": "https://localhost:8080/"
        },
        "id": "S5XoRAITkU2H",
        "outputId": "ff401d96-ac1a-418d-9049-ded7c536a251"
      },
      "execution_count": null,
      "outputs": [
        {
          "output_type": "execute_result",
          "data": {
            "text/plain": [
              "((267, 26), (267,))"
            ]
          },
          "metadata": {},
          "execution_count": 55
        }
      ]
    },
    {
      "cell_type": "code",
      "source": [
        "scaler = preprocessing.StandardScaler().fit(X_train)\n",
        "X_scaled = scaler.transform(X_train)\n",
        "X_train = pd.DataFrame(X_scaled, columns=[X_train.columns])\n",
        "X_train\n"
      ],
      "metadata": {
        "colab": {
          "base_uri": "https://localhost:8080/",
          "height": 505
        },
        "id": "iXvFESy7kXTP",
        "outputId": "af525cce-2000-4d7d-a3a0-192d27dbd198"
      },
      "execution_count": null,
      "outputs": [
        {
          "output_type": "execute_result",
          "data": {
            "text/plain": [
              "          Age     SibSp     Parch      Fare FamilySize  Sex_male  \\\n",
              "0   -0.877760 -0.467125 -0.463389 -0.418093  -0.558271  0.721653   \n",
              "1    1.260770 -0.467125 -0.463389 -0.497440  -0.558271  0.721653   \n",
              "2    0.262789  0.473172 -0.463389 -0.111289   0.081222  0.721653   \n",
              "3    1.189486 -0.467125 -0.463389 -0.011930  -0.558271  0.721653   \n",
              "4   -0.877760 -0.467125  0.768354 -0.463585   0.081222 -1.385708   \n",
              "..        ...       ...       ...       ...        ...       ...   \n",
              "617  0.120221 -0.467125 -0.463389 -0.508548  -0.558271  0.721653   \n",
              "618  2.044898 -0.467125 -0.463389 -0.111289  -0.558271  0.721653   \n",
              "619  2.044898 -0.467125 -0.463389 -0.508019  -0.558271  0.721653   \n",
              "620  0.405358 -0.467125 -0.463389 -0.389000  -0.558271  0.721653   \n",
              "621 -0.663907 -0.467125 -0.463389 -0.496382  -0.558271  0.721653   \n",
              "\n",
              "    Embarked_Queenstown Embarked_Southampton  Pclass_2  Pclass_3  ...  \\\n",
              "0             -0.295656             0.613275  1.974244 -1.098032  ...   \n",
              "1              3.382307            -1.630590 -0.506523  0.910720  ...   \n",
              "2             -0.295656             0.613275  1.974244 -1.098032  ...   \n",
              "3             -0.295656            -1.630590 -0.506523 -1.098032  ...   \n",
              "4             -0.295656             0.613275 -0.506523  0.910720  ...   \n",
              "..                  ...                  ...       ...       ...  ...   \n",
              "617           -0.295656            -1.630590 -0.506523  0.910720  ...   \n",
              "618           -0.295656             0.613275 -0.506523 -1.098032  ...   \n",
              "619           -0.295656             0.613275 -0.506523  0.910720  ...   \n",
              "620           -0.295656            -1.630590  1.974244 -1.098032  ...   \n",
              "621           -0.295656             0.613275 -0.506523  0.910720  ...   \n",
              "\n",
              "    Title_Master Title_Miss Title_Mlle Title_Mme  Title_Mr Title_Mrs Title_Ms  \\\n",
              "0      -0.217113  -0.501507  -0.040129 -0.040129  0.836333 -0.395138      0.0   \n",
              "1      -0.217113  -0.501507  -0.040129 -0.040129  0.836333 -0.395138      0.0   \n",
              "2      -0.217113  -0.501507  -0.040129 -0.040129  0.836333 -0.395138      0.0   \n",
              "3      -0.217113  -0.501507  -0.040129 -0.040129  0.836333 -0.395138      0.0   \n",
              "4      -0.217113  -0.501507  -0.040129 -0.040129 -1.195695  2.530763      0.0   \n",
              "..           ...        ...        ...       ...       ...       ...      ...   \n",
              "617    -0.217113  -0.501507  -0.040129 -0.040129  0.836333 -0.395138      0.0   \n",
              "618    -0.217113  -0.501507  -0.040129 -0.040129  0.836333 -0.395138      0.0   \n",
              "619    -0.217113  -0.501507  -0.040129 -0.040129  0.836333 -0.395138      0.0   \n",
              "620    -0.217113  -0.501507  -0.040129 -0.040129  0.836333 -0.395138      0.0   \n",
              "621    -0.217113  -0.501507  -0.040129 -0.040129  0.836333 -0.395138      0.0   \n",
              "\n",
              "    Title_Rev Title_Sir Title_the Countess  \n",
              "0   -0.056796 -0.040129          -0.040129  \n",
              "1   -0.056796 -0.040129          -0.040129  \n",
              "2   -0.056796 -0.040129          -0.040129  \n",
              "3   -0.056796 -0.040129          -0.040129  \n",
              "4   -0.056796 -0.040129          -0.040129  \n",
              "..        ...       ...                ...  \n",
              "617 -0.056796 -0.040129          -0.040129  \n",
              "618 -0.056796 -0.040129          -0.040129  \n",
              "619 -0.056796 -0.040129          -0.040129  \n",
              "620 -0.056796 -0.040129          -0.040129  \n",
              "621 -0.056796 -0.040129          -0.040129  \n",
              "\n",
              "[622 rows x 26 columns]"
            ],
            "text/html": [
              "\n",
              "  <div id=\"df-7426aa66-c2c4-43a3-a92a-bdcaecee4b03\">\n",
              "    <div class=\"colab-df-container\">\n",
              "      <div>\n",
              "<style scoped>\n",
              "    .dataframe tbody tr th:only-of-type {\n",
              "        vertical-align: middle;\n",
              "    }\n",
              "\n",
              "    .dataframe tbody tr th {\n",
              "        vertical-align: top;\n",
              "    }\n",
              "\n",
              "    .dataframe thead tr th {\n",
              "        text-align: left;\n",
              "    }\n",
              "</style>\n",
              "<table border=\"1\" class=\"dataframe\">\n",
              "  <thead>\n",
              "    <tr>\n",
              "      <th></th>\n",
              "      <th>Age</th>\n",
              "      <th>SibSp</th>\n",
              "      <th>Parch</th>\n",
              "      <th>Fare</th>\n",
              "      <th>FamilySize</th>\n",
              "      <th>Sex_male</th>\n",
              "      <th>Embarked_Queenstown</th>\n",
              "      <th>Embarked_Southampton</th>\n",
              "      <th>Pclass_2</th>\n",
              "      <th>Pclass_3</th>\n",
              "      <th>...</th>\n",
              "      <th>Title_Master</th>\n",
              "      <th>Title_Miss</th>\n",
              "      <th>Title_Mlle</th>\n",
              "      <th>Title_Mme</th>\n",
              "      <th>Title_Mr</th>\n",
              "      <th>Title_Mrs</th>\n",
              "      <th>Title_Ms</th>\n",
              "      <th>Title_Rev</th>\n",
              "      <th>Title_Sir</th>\n",
              "      <th>Title_the Countess</th>\n",
              "    </tr>\n",
              "  </thead>\n",
              "  <tbody>\n",
              "    <tr>\n",
              "      <th>0</th>\n",
              "      <td>-0.877760</td>\n",
              "      <td>-0.467125</td>\n",
              "      <td>-0.463389</td>\n",
              "      <td>-0.418093</td>\n",
              "      <td>-0.558271</td>\n",
              "      <td>0.721653</td>\n",
              "      <td>-0.295656</td>\n",
              "      <td>0.613275</td>\n",
              "      <td>1.974244</td>\n",
              "      <td>-1.098032</td>\n",
              "      <td>...</td>\n",
              "      <td>-0.217113</td>\n",
              "      <td>-0.501507</td>\n",
              "      <td>-0.040129</td>\n",
              "      <td>-0.040129</td>\n",
              "      <td>0.836333</td>\n",
              "      <td>-0.395138</td>\n",
              "      <td>0.0</td>\n",
              "      <td>-0.056796</td>\n",
              "      <td>-0.040129</td>\n",
              "      <td>-0.040129</td>\n",
              "    </tr>\n",
              "    <tr>\n",
              "      <th>1</th>\n",
              "      <td>1.260770</td>\n",
              "      <td>-0.467125</td>\n",
              "      <td>-0.463389</td>\n",
              "      <td>-0.497440</td>\n",
              "      <td>-0.558271</td>\n",
              "      <td>0.721653</td>\n",
              "      <td>3.382307</td>\n",
              "      <td>-1.630590</td>\n",
              "      <td>-0.506523</td>\n",
              "      <td>0.910720</td>\n",
              "      <td>...</td>\n",
              "      <td>-0.217113</td>\n",
              "      <td>-0.501507</td>\n",
              "      <td>-0.040129</td>\n",
              "      <td>-0.040129</td>\n",
              "      <td>0.836333</td>\n",
              "      <td>-0.395138</td>\n",
              "      <td>0.0</td>\n",
              "      <td>-0.056796</td>\n",
              "      <td>-0.040129</td>\n",
              "      <td>-0.040129</td>\n",
              "    </tr>\n",
              "    <tr>\n",
              "      <th>2</th>\n",
              "      <td>0.262789</td>\n",
              "      <td>0.473172</td>\n",
              "      <td>-0.463389</td>\n",
              "      <td>-0.111289</td>\n",
              "      <td>0.081222</td>\n",
              "      <td>0.721653</td>\n",
              "      <td>-0.295656</td>\n",
              "      <td>0.613275</td>\n",
              "      <td>1.974244</td>\n",
              "      <td>-1.098032</td>\n",
              "      <td>...</td>\n",
              "      <td>-0.217113</td>\n",
              "      <td>-0.501507</td>\n",
              "      <td>-0.040129</td>\n",
              "      <td>-0.040129</td>\n",
              "      <td>0.836333</td>\n",
              "      <td>-0.395138</td>\n",
              "      <td>0.0</td>\n",
              "      <td>-0.056796</td>\n",
              "      <td>-0.040129</td>\n",
              "      <td>-0.040129</td>\n",
              "    </tr>\n",
              "    <tr>\n",
              "      <th>3</th>\n",
              "      <td>1.189486</td>\n",
              "      <td>-0.467125</td>\n",
              "      <td>-0.463389</td>\n",
              "      <td>-0.011930</td>\n",
              "      <td>-0.558271</td>\n",
              "      <td>0.721653</td>\n",
              "      <td>-0.295656</td>\n",
              "      <td>-1.630590</td>\n",
              "      <td>-0.506523</td>\n",
              "      <td>-1.098032</td>\n",
              "      <td>...</td>\n",
              "      <td>-0.217113</td>\n",
              "      <td>-0.501507</td>\n",
              "      <td>-0.040129</td>\n",
              "      <td>-0.040129</td>\n",
              "      <td>0.836333</td>\n",
              "      <td>-0.395138</td>\n",
              "      <td>0.0</td>\n",
              "      <td>-0.056796</td>\n",
              "      <td>-0.040129</td>\n",
              "      <td>-0.040129</td>\n",
              "    </tr>\n",
              "    <tr>\n",
              "      <th>4</th>\n",
              "      <td>-0.877760</td>\n",
              "      <td>-0.467125</td>\n",
              "      <td>0.768354</td>\n",
              "      <td>-0.463585</td>\n",
              "      <td>0.081222</td>\n",
              "      <td>-1.385708</td>\n",
              "      <td>-0.295656</td>\n",
              "      <td>0.613275</td>\n",
              "      <td>-0.506523</td>\n",
              "      <td>0.910720</td>\n",
              "      <td>...</td>\n",
              "      <td>-0.217113</td>\n",
              "      <td>-0.501507</td>\n",
              "      <td>-0.040129</td>\n",
              "      <td>-0.040129</td>\n",
              "      <td>-1.195695</td>\n",
              "      <td>2.530763</td>\n",
              "      <td>0.0</td>\n",
              "      <td>-0.056796</td>\n",
              "      <td>-0.040129</td>\n",
              "      <td>-0.040129</td>\n",
              "    </tr>\n",
              "    <tr>\n",
              "      <th>...</th>\n",
              "      <td>...</td>\n",
              "      <td>...</td>\n",
              "      <td>...</td>\n",
              "      <td>...</td>\n",
              "      <td>...</td>\n",
              "      <td>...</td>\n",
              "      <td>...</td>\n",
              "      <td>...</td>\n",
              "      <td>...</td>\n",
              "      <td>...</td>\n",
              "      <td>...</td>\n",
              "      <td>...</td>\n",
              "      <td>...</td>\n",
              "      <td>...</td>\n",
              "      <td>...</td>\n",
              "      <td>...</td>\n",
              "      <td>...</td>\n",
              "      <td>...</td>\n",
              "      <td>...</td>\n",
              "      <td>...</td>\n",
              "      <td>...</td>\n",
              "    </tr>\n",
              "    <tr>\n",
              "      <th>617</th>\n",
              "      <td>0.120221</td>\n",
              "      <td>-0.467125</td>\n",
              "      <td>-0.463389</td>\n",
              "      <td>-0.508548</td>\n",
              "      <td>-0.558271</td>\n",
              "      <td>0.721653</td>\n",
              "      <td>-0.295656</td>\n",
              "      <td>-1.630590</td>\n",
              "      <td>-0.506523</td>\n",
              "      <td>0.910720</td>\n",
              "      <td>...</td>\n",
              "      <td>-0.217113</td>\n",
              "      <td>-0.501507</td>\n",
              "      <td>-0.040129</td>\n",
              "      <td>-0.040129</td>\n",
              "      <td>0.836333</td>\n",
              "      <td>-0.395138</td>\n",
              "      <td>0.0</td>\n",
              "      <td>-0.056796</td>\n",
              "      <td>-0.040129</td>\n",
              "      <td>-0.040129</td>\n",
              "    </tr>\n",
              "    <tr>\n",
              "      <th>618</th>\n",
              "      <td>2.044898</td>\n",
              "      <td>-0.467125</td>\n",
              "      <td>-0.463389</td>\n",
              "      <td>-0.111289</td>\n",
              "      <td>-0.558271</td>\n",
              "      <td>0.721653</td>\n",
              "      <td>-0.295656</td>\n",
              "      <td>0.613275</td>\n",
              "      <td>-0.506523</td>\n",
              "      <td>-1.098032</td>\n",
              "      <td>...</td>\n",
              "      <td>-0.217113</td>\n",
              "      <td>-0.501507</td>\n",
              "      <td>-0.040129</td>\n",
              "      <td>-0.040129</td>\n",
              "      <td>0.836333</td>\n",
              "      <td>-0.395138</td>\n",
              "      <td>0.0</td>\n",
              "      <td>-0.056796</td>\n",
              "      <td>-0.040129</td>\n",
              "      <td>-0.040129</td>\n",
              "    </tr>\n",
              "    <tr>\n",
              "      <th>619</th>\n",
              "      <td>2.044898</td>\n",
              "      <td>-0.467125</td>\n",
              "      <td>-0.463389</td>\n",
              "      <td>-0.508019</td>\n",
              "      <td>-0.558271</td>\n",
              "      <td>0.721653</td>\n",
              "      <td>-0.295656</td>\n",
              "      <td>0.613275</td>\n",
              "      <td>-0.506523</td>\n",
              "      <td>0.910720</td>\n",
              "      <td>...</td>\n",
              "      <td>-0.217113</td>\n",
              "      <td>-0.501507</td>\n",
              "      <td>-0.040129</td>\n",
              "      <td>-0.040129</td>\n",
              "      <td>0.836333</td>\n",
              "      <td>-0.395138</td>\n",
              "      <td>0.0</td>\n",
              "      <td>-0.056796</td>\n",
              "      <td>-0.040129</td>\n",
              "      <td>-0.040129</td>\n",
              "    </tr>\n",
              "    <tr>\n",
              "      <th>620</th>\n",
              "      <td>0.405358</td>\n",
              "      <td>-0.467125</td>\n",
              "      <td>-0.463389</td>\n",
              "      <td>-0.389000</td>\n",
              "      <td>-0.558271</td>\n",
              "      <td>0.721653</td>\n",
              "      <td>-0.295656</td>\n",
              "      <td>-1.630590</td>\n",
              "      <td>1.974244</td>\n",
              "      <td>-1.098032</td>\n",
              "      <td>...</td>\n",
              "      <td>-0.217113</td>\n",
              "      <td>-0.501507</td>\n",
              "      <td>-0.040129</td>\n",
              "      <td>-0.040129</td>\n",
              "      <td>0.836333</td>\n",
              "      <td>-0.395138</td>\n",
              "      <td>0.0</td>\n",
              "      <td>-0.056796</td>\n",
              "      <td>-0.040129</td>\n",
              "      <td>-0.040129</td>\n",
              "    </tr>\n",
              "    <tr>\n",
              "      <th>621</th>\n",
              "      <td>-0.663907</td>\n",
              "      <td>-0.467125</td>\n",
              "      <td>-0.463389</td>\n",
              "      <td>-0.496382</td>\n",
              "      <td>-0.558271</td>\n",
              "      <td>0.721653</td>\n",
              "      <td>-0.295656</td>\n",
              "      <td>0.613275</td>\n",
              "      <td>-0.506523</td>\n",
              "      <td>0.910720</td>\n",
              "      <td>...</td>\n",
              "      <td>-0.217113</td>\n",
              "      <td>-0.501507</td>\n",
              "      <td>-0.040129</td>\n",
              "      <td>-0.040129</td>\n",
              "      <td>0.836333</td>\n",
              "      <td>-0.395138</td>\n",
              "      <td>0.0</td>\n",
              "      <td>-0.056796</td>\n",
              "      <td>-0.040129</td>\n",
              "      <td>-0.040129</td>\n",
              "    </tr>\n",
              "  </tbody>\n",
              "</table>\n",
              "<p>622 rows × 26 columns</p>\n",
              "</div>\n",
              "      <button class=\"colab-df-convert\" onclick=\"convertToInteractive('df-7426aa66-c2c4-43a3-a92a-bdcaecee4b03')\"\n",
              "              title=\"Convert this dataframe to an interactive table.\"\n",
              "              style=\"display:none;\">\n",
              "        \n",
              "  <svg xmlns=\"http://www.w3.org/2000/svg\" height=\"24px\"viewBox=\"0 0 24 24\"\n",
              "       width=\"24px\">\n",
              "    <path d=\"M0 0h24v24H0V0z\" fill=\"none\"/>\n",
              "    <path d=\"M18.56 5.44l.94 2.06.94-2.06 2.06-.94-2.06-.94-.94-2.06-.94 2.06-2.06.94zm-11 1L8.5 8.5l.94-2.06 2.06-.94-2.06-.94L8.5 2.5l-.94 2.06-2.06.94zm10 10l.94 2.06.94-2.06 2.06-.94-2.06-.94-.94-2.06-.94 2.06-2.06.94z\"/><path d=\"M17.41 7.96l-1.37-1.37c-.4-.4-.92-.59-1.43-.59-.52 0-1.04.2-1.43.59L10.3 9.45l-7.72 7.72c-.78.78-.78 2.05 0 2.83L4 21.41c.39.39.9.59 1.41.59.51 0 1.02-.2 1.41-.59l7.78-7.78 2.81-2.81c.8-.78.8-2.07 0-2.86zM5.41 20L4 18.59l7.72-7.72 1.47 1.35L5.41 20z\"/>\n",
              "  </svg>\n",
              "      </button>\n",
              "      \n",
              "  <style>\n",
              "    .colab-df-container {\n",
              "      display:flex;\n",
              "      flex-wrap:wrap;\n",
              "      gap: 12px;\n",
              "    }\n",
              "\n",
              "    .colab-df-convert {\n",
              "      background-color: #E8F0FE;\n",
              "      border: none;\n",
              "      border-radius: 50%;\n",
              "      cursor: pointer;\n",
              "      display: none;\n",
              "      fill: #1967D2;\n",
              "      height: 32px;\n",
              "      padding: 0 0 0 0;\n",
              "      width: 32px;\n",
              "    }\n",
              "\n",
              "    .colab-df-convert:hover {\n",
              "      background-color: #E2EBFA;\n",
              "      box-shadow: 0px 1px 2px rgba(60, 64, 67, 0.3), 0px 1px 3px 1px rgba(60, 64, 67, 0.15);\n",
              "      fill: #174EA6;\n",
              "    }\n",
              "\n",
              "    [theme=dark] .colab-df-convert {\n",
              "      background-color: #3B4455;\n",
              "      fill: #D2E3FC;\n",
              "    }\n",
              "\n",
              "    [theme=dark] .colab-df-convert:hover {\n",
              "      background-color: #434B5C;\n",
              "      box-shadow: 0px 1px 3px 1px rgba(0, 0, 0, 0.15);\n",
              "      filter: drop-shadow(0px 1px 2px rgba(0, 0, 0, 0.3));\n",
              "      fill: #FFFFFF;\n",
              "    }\n",
              "  </style>\n",
              "\n",
              "      <script>\n",
              "        const buttonEl =\n",
              "          document.querySelector('#df-7426aa66-c2c4-43a3-a92a-bdcaecee4b03 button.colab-df-convert');\n",
              "        buttonEl.style.display =\n",
              "          google.colab.kernel.accessAllowed ? 'block' : 'none';\n",
              "\n",
              "        async function convertToInteractive(key) {\n",
              "          const element = document.querySelector('#df-7426aa66-c2c4-43a3-a92a-bdcaecee4b03');\n",
              "          const dataTable =\n",
              "            await google.colab.kernel.invokeFunction('convertToInteractive',\n",
              "                                                     [key], {});\n",
              "          if (!dataTable) return;\n",
              "\n",
              "          const docLinkHtml = 'Like what you see? Visit the ' +\n",
              "            '<a target=\"_blank\" href=https://colab.research.google.com/notebooks/data_table.ipynb>data table notebook</a>'\n",
              "            + ' to learn more about interactive tables.';\n",
              "          element.innerHTML = '';\n",
              "          dataTable['output_type'] = 'display_data';\n",
              "          await google.colab.output.renderOutput(dataTable, element);\n",
              "          const docLink = document.createElement('div');\n",
              "          docLink.innerHTML = docLinkHtml;\n",
              "          element.appendChild(docLink);\n",
              "        }\n",
              "      </script>\n",
              "    </div>\n",
              "  </div>\n",
              "  "
            ]
          },
          "metadata": {},
          "execution_count": 56
        }
      ]
    },
    {
      "cell_type": "code",
      "source": [
        "scaler = preprocessing.StandardScaler().fit(X_test)\n",
        "X_scaled = scaler.transform(X_test)\n",
        "X_test = pd.DataFrame(X_scaled, columns=[X_test.columns])"
      ],
      "metadata": {
        "id": "Sob-blV4kZTe"
      },
      "execution_count": null,
      "outputs": []
    },
    {
      "cell_type": "code",
      "source": [
        "lr = LogisticRegression(max_iter=500)\n",
        "lr.fit(X_train, y_train)"
      ],
      "metadata": {
        "colab": {
          "base_uri": "https://localhost:8080/"
        },
        "id": "xQ7ROG2rkcVO",
        "outputId": "3f80d982-b496-4be9-ae1b-262bf9707ede"
      },
      "execution_count": null,
      "outputs": [
        {
          "output_type": "stream",
          "name": "stderr",
          "text": [
            "/usr/local/lib/python3.7/dist-packages/sklearn/utils/validation.py:1692: FutureWarning: Feature names only support names that are all strings. Got feature names with dtypes: ['tuple']. An error will be raised in 1.2.\n",
            "  FutureWarning,\n"
          ]
        },
        {
          "output_type": "execute_result",
          "data": {
            "text/plain": [
              "LogisticRegression(max_iter=500)"
            ]
          },
          "metadata": {},
          "execution_count": 58
        }
      ]
    },
    {
      "cell_type": "code",
      "source": [
        "lr.score(X_train, y_train), lr.score(X_test, y_test)\n",
        "(0.8263665594855305, 0.8389513108614233)"
      ],
      "metadata": {
        "colab": {
          "base_uri": "https://localhost:8080/"
        },
        "id": "nTMycMMXkfEW",
        "outputId": "e66bdd7f-3fd8-410e-f4ff-43372f0e24c4"
      },
      "execution_count": null,
      "outputs": [
        {
          "output_type": "stream",
          "name": "stderr",
          "text": [
            "/usr/local/lib/python3.7/dist-packages/sklearn/utils/validation.py:1692: FutureWarning: Feature names only support names that are all strings. Got feature names with dtypes: ['tuple']. An error will be raised in 1.2.\n",
            "  FutureWarning,\n",
            "/usr/local/lib/python3.7/dist-packages/sklearn/utils/validation.py:1692: FutureWarning: Feature names only support names that are all strings. Got feature names with dtypes: ['tuple']. An error will be raised in 1.2.\n",
            "  FutureWarning,\n"
          ]
        },
        {
          "output_type": "execute_result",
          "data": {
            "text/plain": [
              "(0.8263665594855305, 0.8389513108614233)"
            ]
          },
          "metadata": {},
          "execution_count": 59
        }
      ]
    },
    {
      "cell_type": "code",
      "source": [
        "y_hat = lr.predict(X_test)\n",
        "X_test_display = X_test.copy()\n",
        "X_test_display['Predicted_Survived'] = y_hat\n",
        "X_test_display['Survived_True'] = y_test.to_numpy()\n",
        "X_test_display.head()"
      ],
      "metadata": {
        "colab": {
          "base_uri": "https://localhost:8080/",
          "height": 352
        },
        "id": "fctCxKynkfK5",
        "outputId": "c2184b56-8a5d-456d-cd1a-8f20866a5919"
      },
      "execution_count": null,
      "outputs": [
        {
          "output_type": "stream",
          "name": "stderr",
          "text": [
            "/usr/local/lib/python3.7/dist-packages/sklearn/utils/validation.py:1692: FutureWarning: Feature names only support names that are all strings. Got feature names with dtypes: ['tuple']. An error will be raised in 1.2.\n",
            "  FutureWarning,\n"
          ]
        },
        {
          "output_type": "execute_result",
          "data": {
            "text/plain": [
              "        Age     SibSp     Parch      Fare FamilySize  Sex_male  \\\n",
              "0  0.453090  0.346856 -0.500613  1.020640   0.008699 -1.302678   \n",
              "1  0.066341 -0.495059 -0.500613 -0.395766  -0.571945 -1.302678   \n",
              "2 -0.861856 -0.495059 -0.500613 -0.479675  -0.571945 -1.302678   \n",
              "3  0.453090 -0.495059 -0.500613  8.724308  -0.571945 -1.302678   \n",
              "4  1.226587  0.346856  0.760365  2.386277   0.589342 -1.302678   \n",
              "\n",
              "  Embarked_Queenstown Embarked_Southampton  Pclass_2  Pclass_3  ...  \\\n",
              "0           -0.335410                0.625 -0.520988 -1.140931  ...   \n",
              "1            2.981424               -1.600  1.919430 -1.140931  ...   \n",
              "2            2.981424               -1.600 -0.520988  0.876477  ...   \n",
              "3           -0.335410               -1.600 -0.520988 -1.140931  ...   \n",
              "4           -0.335410                0.625 -0.520988 -1.140931  ...   \n",
              "\n",
              "  Title_Mlle Title_Mme  Title_Mr Title_Mrs  Title_Ms Title_Rev Title_Sir  \\\n",
              "0  -0.061314       0.0 -1.140931  2.382226 -0.061314 -0.123325       0.0   \n",
              "1  -0.061314       0.0 -1.140931 -0.419775 -0.061314 -0.123325       0.0   \n",
              "2  -0.061314       0.0 -1.140931 -0.419775 -0.061314 -0.123325       0.0   \n",
              "3  -0.061314       0.0 -1.140931 -0.419775 -0.061314 -0.123325       0.0   \n",
              "4  -0.061314       0.0 -1.140931  2.382226 -0.061314 -0.123325       0.0   \n",
              "\n",
              "  Title_the Countess Predicted_Survived Survived_True  \n",
              "0                0.0                  1             1  \n",
              "1                0.0                  1             1  \n",
              "2                0.0                  1             1  \n",
              "3                0.0                  1             1  \n",
              "4                0.0                  1             1  \n",
              "\n",
              "[5 rows x 28 columns]"
            ],
            "text/html": [
              "\n",
              "  <div id=\"df-20b4b181-1741-4033-ba7a-865e072c8e38\">\n",
              "    <div class=\"colab-df-container\">\n",
              "      <div>\n",
              "<style scoped>\n",
              "    .dataframe tbody tr th:only-of-type {\n",
              "        vertical-align: middle;\n",
              "    }\n",
              "\n",
              "    .dataframe tbody tr th {\n",
              "        vertical-align: top;\n",
              "    }\n",
              "\n",
              "    .dataframe thead tr th {\n",
              "        text-align: left;\n",
              "    }\n",
              "</style>\n",
              "<table border=\"1\" class=\"dataframe\">\n",
              "  <thead>\n",
              "    <tr>\n",
              "      <th></th>\n",
              "      <th>Age</th>\n",
              "      <th>SibSp</th>\n",
              "      <th>Parch</th>\n",
              "      <th>Fare</th>\n",
              "      <th>FamilySize</th>\n",
              "      <th>Sex_male</th>\n",
              "      <th>Embarked_Queenstown</th>\n",
              "      <th>Embarked_Southampton</th>\n",
              "      <th>Pclass_2</th>\n",
              "      <th>Pclass_3</th>\n",
              "      <th>...</th>\n",
              "      <th>Title_Mlle</th>\n",
              "      <th>Title_Mme</th>\n",
              "      <th>Title_Mr</th>\n",
              "      <th>Title_Mrs</th>\n",
              "      <th>Title_Ms</th>\n",
              "      <th>Title_Rev</th>\n",
              "      <th>Title_Sir</th>\n",
              "      <th>Title_the Countess</th>\n",
              "      <th>Predicted_Survived</th>\n",
              "      <th>Survived_True</th>\n",
              "    </tr>\n",
              "  </thead>\n",
              "  <tbody>\n",
              "    <tr>\n",
              "      <th>0</th>\n",
              "      <td>0.453090</td>\n",
              "      <td>0.346856</td>\n",
              "      <td>-0.500613</td>\n",
              "      <td>1.020640</td>\n",
              "      <td>0.008699</td>\n",
              "      <td>-1.302678</td>\n",
              "      <td>-0.335410</td>\n",
              "      <td>0.625</td>\n",
              "      <td>-0.520988</td>\n",
              "      <td>-1.140931</td>\n",
              "      <td>...</td>\n",
              "      <td>-0.061314</td>\n",
              "      <td>0.0</td>\n",
              "      <td>-1.140931</td>\n",
              "      <td>2.382226</td>\n",
              "      <td>-0.061314</td>\n",
              "      <td>-0.123325</td>\n",
              "      <td>0.0</td>\n",
              "      <td>0.0</td>\n",
              "      <td>1</td>\n",
              "      <td>1</td>\n",
              "    </tr>\n",
              "    <tr>\n",
              "      <th>1</th>\n",
              "      <td>0.066341</td>\n",
              "      <td>-0.495059</td>\n",
              "      <td>-0.500613</td>\n",
              "      <td>-0.395766</td>\n",
              "      <td>-0.571945</td>\n",
              "      <td>-1.302678</td>\n",
              "      <td>2.981424</td>\n",
              "      <td>-1.600</td>\n",
              "      <td>1.919430</td>\n",
              "      <td>-1.140931</td>\n",
              "      <td>...</td>\n",
              "      <td>-0.061314</td>\n",
              "      <td>0.0</td>\n",
              "      <td>-1.140931</td>\n",
              "      <td>-0.419775</td>\n",
              "      <td>-0.061314</td>\n",
              "      <td>-0.123325</td>\n",
              "      <td>0.0</td>\n",
              "      <td>0.0</td>\n",
              "      <td>1</td>\n",
              "      <td>1</td>\n",
              "    </tr>\n",
              "    <tr>\n",
              "      <th>2</th>\n",
              "      <td>-0.861856</td>\n",
              "      <td>-0.495059</td>\n",
              "      <td>-0.500613</td>\n",
              "      <td>-0.479675</td>\n",
              "      <td>-0.571945</td>\n",
              "      <td>-1.302678</td>\n",
              "      <td>2.981424</td>\n",
              "      <td>-1.600</td>\n",
              "      <td>-0.520988</td>\n",
              "      <td>0.876477</td>\n",
              "      <td>...</td>\n",
              "      <td>-0.061314</td>\n",
              "      <td>0.0</td>\n",
              "      <td>-1.140931</td>\n",
              "      <td>-0.419775</td>\n",
              "      <td>-0.061314</td>\n",
              "      <td>-0.123325</td>\n",
              "      <td>0.0</td>\n",
              "      <td>0.0</td>\n",
              "      <td>1</td>\n",
              "      <td>1</td>\n",
              "    </tr>\n",
              "    <tr>\n",
              "      <th>3</th>\n",
              "      <td>0.453090</td>\n",
              "      <td>-0.495059</td>\n",
              "      <td>-0.500613</td>\n",
              "      <td>8.724308</td>\n",
              "      <td>-0.571945</td>\n",
              "      <td>-1.302678</td>\n",
              "      <td>-0.335410</td>\n",
              "      <td>-1.600</td>\n",
              "      <td>-0.520988</td>\n",
              "      <td>-1.140931</td>\n",
              "      <td>...</td>\n",
              "      <td>-0.061314</td>\n",
              "      <td>0.0</td>\n",
              "      <td>-1.140931</td>\n",
              "      <td>-0.419775</td>\n",
              "      <td>-0.061314</td>\n",
              "      <td>-0.123325</td>\n",
              "      <td>0.0</td>\n",
              "      <td>0.0</td>\n",
              "      <td>1</td>\n",
              "      <td>1</td>\n",
              "    </tr>\n",
              "    <tr>\n",
              "      <th>4</th>\n",
              "      <td>1.226587</td>\n",
              "      <td>0.346856</td>\n",
              "      <td>0.760365</td>\n",
              "      <td>2.386277</td>\n",
              "      <td>0.589342</td>\n",
              "      <td>-1.302678</td>\n",
              "      <td>-0.335410</td>\n",
              "      <td>0.625</td>\n",
              "      <td>-0.520988</td>\n",
              "      <td>-1.140931</td>\n",
              "      <td>...</td>\n",
              "      <td>-0.061314</td>\n",
              "      <td>0.0</td>\n",
              "      <td>-1.140931</td>\n",
              "      <td>2.382226</td>\n",
              "      <td>-0.061314</td>\n",
              "      <td>-0.123325</td>\n",
              "      <td>0.0</td>\n",
              "      <td>0.0</td>\n",
              "      <td>1</td>\n",
              "      <td>1</td>\n",
              "    </tr>\n",
              "  </tbody>\n",
              "</table>\n",
              "<p>5 rows × 28 columns</p>\n",
              "</div>\n",
              "      <button class=\"colab-df-convert\" onclick=\"convertToInteractive('df-20b4b181-1741-4033-ba7a-865e072c8e38')\"\n",
              "              title=\"Convert this dataframe to an interactive table.\"\n",
              "              style=\"display:none;\">\n",
              "        \n",
              "  <svg xmlns=\"http://www.w3.org/2000/svg\" height=\"24px\"viewBox=\"0 0 24 24\"\n",
              "       width=\"24px\">\n",
              "    <path d=\"M0 0h24v24H0V0z\" fill=\"none\"/>\n",
              "    <path d=\"M18.56 5.44l.94 2.06.94-2.06 2.06-.94-2.06-.94-.94-2.06-.94 2.06-2.06.94zm-11 1L8.5 8.5l.94-2.06 2.06-.94-2.06-.94L8.5 2.5l-.94 2.06-2.06.94zm10 10l.94 2.06.94-2.06 2.06-.94-2.06-.94-.94-2.06-.94 2.06-2.06.94z\"/><path d=\"M17.41 7.96l-1.37-1.37c-.4-.4-.92-.59-1.43-.59-.52 0-1.04.2-1.43.59L10.3 9.45l-7.72 7.72c-.78.78-.78 2.05 0 2.83L4 21.41c.39.39.9.59 1.41.59.51 0 1.02-.2 1.41-.59l7.78-7.78 2.81-2.81c.8-.78.8-2.07 0-2.86zM5.41 20L4 18.59l7.72-7.72 1.47 1.35L5.41 20z\"/>\n",
              "  </svg>\n",
              "      </button>\n",
              "      \n",
              "  <style>\n",
              "    .colab-df-container {\n",
              "      display:flex;\n",
              "      flex-wrap:wrap;\n",
              "      gap: 12px;\n",
              "    }\n",
              "\n",
              "    .colab-df-convert {\n",
              "      background-color: #E8F0FE;\n",
              "      border: none;\n",
              "      border-radius: 50%;\n",
              "      cursor: pointer;\n",
              "      display: none;\n",
              "      fill: #1967D2;\n",
              "      height: 32px;\n",
              "      padding: 0 0 0 0;\n",
              "      width: 32px;\n",
              "    }\n",
              "\n",
              "    .colab-df-convert:hover {\n",
              "      background-color: #E2EBFA;\n",
              "      box-shadow: 0px 1px 2px rgba(60, 64, 67, 0.3), 0px 1px 3px 1px rgba(60, 64, 67, 0.15);\n",
              "      fill: #174EA6;\n",
              "    }\n",
              "\n",
              "    [theme=dark] .colab-df-convert {\n",
              "      background-color: #3B4455;\n",
              "      fill: #D2E3FC;\n",
              "    }\n",
              "\n",
              "    [theme=dark] .colab-df-convert:hover {\n",
              "      background-color: #434B5C;\n",
              "      box-shadow: 0px 1px 3px 1px rgba(0, 0, 0, 0.15);\n",
              "      filter: drop-shadow(0px 1px 2px rgba(0, 0, 0, 0.3));\n",
              "      fill: #FFFFFF;\n",
              "    }\n",
              "  </style>\n",
              "\n",
              "      <script>\n",
              "        const buttonEl =\n",
              "          document.querySelector('#df-20b4b181-1741-4033-ba7a-865e072c8e38 button.colab-df-convert');\n",
              "        buttonEl.style.display =\n",
              "          google.colab.kernel.accessAllowed ? 'block' : 'none';\n",
              "\n",
              "        async function convertToInteractive(key) {\n",
              "          const element = document.querySelector('#df-20b4b181-1741-4033-ba7a-865e072c8e38');\n",
              "          const dataTable =\n",
              "            await google.colab.kernel.invokeFunction('convertToInteractive',\n",
              "                                                     [key], {});\n",
              "          if (!dataTable) return;\n",
              "\n",
              "          const docLinkHtml = 'Like what you see? Visit the ' +\n",
              "            '<a target=\"_blank\" href=https://colab.research.google.com/notebooks/data_table.ipynb>data table notebook</a>'\n",
              "            + ' to learn more about interactive tables.';\n",
              "          element.innerHTML = '';\n",
              "          dataTable['output_type'] = 'display_data';\n",
              "          await google.colab.output.renderOutput(dataTable, element);\n",
              "          const docLink = document.createElement('div');\n",
              "          docLink.innerHTML = docLinkHtml;\n",
              "          element.appendChild(docLink);\n",
              "        }\n",
              "      </script>\n",
              "    </div>\n",
              "  </div>\n",
              "  "
            ]
          },
          "metadata": {},
          "execution_count": 60
        }
      ]
    },
    {
      "cell_type": "code",
      "source": [
        "print(classification_report(y_test, y_hat))"
      ],
      "metadata": {
        "colab": {
          "base_uri": "https://localhost:8080/"
        },
        "id": "RTlKEOwqkkCG",
        "outputId": "757830a2-0468-4091-8b95-a8a8fb564fda"
      },
      "execution_count": null,
      "outputs": [
        {
          "output_type": "stream",
          "name": "stdout",
          "text": [
            "              precision    recall  f1-score   support\n",
            "\n",
            "           0       0.89      0.86      0.87       171\n",
            "           1       0.76      0.80      0.78        96\n",
            "\n",
            "    accuracy                           0.84       267\n",
            "   macro avg       0.82      0.83      0.83       267\n",
            "weighted avg       0.84      0.84      0.84       267\n",
            "\n"
          ]
        }
      ]
    },
    {
      "cell_type": "code",
      "source": [
        "plot_confusion_matrix(lr, X_test, y_test)\n",
        "plt.show()"
      ],
      "metadata": {
        "colab": {
          "base_uri": "https://localhost:8080/",
          "height": 373
        },
        "id": "R45bTqdPksUW",
        "outputId": "0424443b-a5d6-4d3c-dc22-f9c80777f107"
      },
      "execution_count": null,
      "outputs": [
        {
          "output_type": "stream",
          "name": "stderr",
          "text": [
            "/usr/local/lib/python3.7/dist-packages/sklearn/utils/deprecation.py:87: FutureWarning: Function plot_confusion_matrix is deprecated; Function `plot_confusion_matrix` is deprecated in 1.0 and will be removed in 1.2. Use one of the class methods: ConfusionMatrixDisplay.from_predictions or ConfusionMatrixDisplay.from_estimator.\n",
            "  warnings.warn(msg, category=FutureWarning)\n",
            "/usr/local/lib/python3.7/dist-packages/sklearn/utils/validation.py:1692: FutureWarning: Feature names only support names that are all strings. Got feature names with dtypes: ['tuple']. An error will be raised in 1.2.\n",
            "  FutureWarning,\n"
          ]
        },
        {
          "output_type": "display_data",
          "data": {
            "text/plain": [
              "<Figure size 432x288 with 2 Axes>"
            ],
            "image/png": "[encoded data removed]"
          },
          "metadata": {}
        }
      ]
    },
    {
      "cell_type": "code",
      "source": [
        "train['Survived'].value_counts(normalize=True)"
      ],
      "metadata": {
        "colab": {
          "base_uri": "https://localhost:8080/"
        },
        "id": "kMZFYv2akvp-",
        "outputId": "2cafe9a2-ca84-44db-ec17-eaaabd4b6bf4"
      },
      "execution_count": null,
      "outputs": [
        {
          "output_type": "execute_result",
          "data": {
            "text/plain": [
              "0    0.617548\n",
              "1    0.382452\n",
              "Name: Survived, dtype: float64"
            ]
          },
          "metadata": {},
          "execution_count": 65
        }
      ]
    },
    {
      "cell_type": "code",
      "source": [
        "dtc = DecisionTreeClassifier(max_depth=3)\n",
        "dtc.fit(X_train, y_train)"
      ],
      "metadata": {
        "colab": {
          "base_uri": "https://localhost:8080/"
        },
        "id": "mSYrxx9Lkxud",
        "outputId": "e8c08c42-9bb5-43df-9238-afb3921ade46"
      },
      "execution_count": null,
      "outputs": [
        {
          "output_type": "stream",
          "name": "stderr",
          "text": [
            "/usr/local/lib/python3.7/dist-packages/sklearn/utils/validation.py:1692: FutureWarning: Feature names only support names that are all strings. Got feature names with dtypes: ['tuple']. An error will be raised in 1.2.\n",
            "  FutureWarning,\n"
          ]
        },
        {
          "output_type": "execute_result",
          "data": {
            "text/plain": [
              "DecisionTreeClassifier(max_depth=3)"
            ]
          },
          "metadata": {},
          "execution_count": 66
        }
      ]
    },
    {
      "cell_type": "code",
      "source": [
        "dtc.score(X_train, y_train), dtc.score(X_test, y_test)\n",
        "(0.8344051446945338, 0.8239700374531835)"
      ],
      "metadata": {
        "colab": {
          "base_uri": "https://localhost:8080/"
        },
        "id": "1SUCCBYnkzsD",
        "outputId": "cd466f5f-115c-41f9-c70e-6720a9ad0c24"
      },
      "execution_count": null,
      "outputs": [
        {
          "output_type": "stream",
          "name": "stderr",
          "text": [
            "/usr/local/lib/python3.7/dist-packages/sklearn/utils/validation.py:1692: FutureWarning: Feature names only support names that are all strings. Got feature names with dtypes: ['tuple']. An error will be raised in 1.2.\n",
            "  FutureWarning,\n",
            "/usr/local/lib/python3.7/dist-packages/sklearn/utils/validation.py:1692: FutureWarning: Feature names only support names that are all strings. Got feature names with dtypes: ['tuple']. An error will be raised in 1.2.\n",
            "  FutureWarning,\n"
          ]
        },
        {
          "output_type": "execute_result",
          "data": {
            "text/plain": [
              "(0.8344051446945338, 0.8239700374531835)"
            ]
          },
          "metadata": {},
          "execution_count": 67
        }
      ]
    },
    {
      "cell_type": "code",
      "source": [
        "print(classification_report(y_test, y_hat))"
      ],
      "metadata": {
        "colab": {
          "base_uri": "https://localhost:8080/"
        },
        "id": "jsq1Mp_5k1e1",
        "outputId": "cc60e931-89e9-4ae1-848d-0f5c4e4daee0"
      },
      "execution_count": null,
      "outputs": [
        {
          "output_type": "stream",
          "name": "stdout",
          "text": [
            "              precision    recall  f1-score   support\n",
            "\n",
            "           0       0.89      0.86      0.87       171\n",
            "           1       0.76      0.80      0.78        96\n",
            "\n",
            "    accuracy                           0.84       267\n",
            "   macro avg       0.82      0.83      0.83       267\n",
            "weighted avg       0.84      0.84      0.84       267\n",
            "\n"
          ]
        }
      ]
    },
    {
      "cell_type": "code",
      "source": [
        "from sklearn.metrics import roc_curve\n",
        "from sklearn.metrics import roc_auc_score\n",
        "# generate a no skill prediction (majority class)\n",
        "ns_probs = [0 for _ in range(len(y_test))]\n",
        "# predict probabilities\n",
        "lr_probs = lr.predict_proba(X_test)\n",
        "# keep probabilities for the positive outcome only\n",
        "lr_probs = lr_probs[:, 1]\n",
        "# calculate scores\n",
        "ns_auc = roc_auc_score(y_test, ns_probs)\n",
        "lr_auc = roc_auc_score(y_test, lr_probs)\n",
        "# calculate scores\n",
        "ns_auc = roc_auc_score(y_test, ns_probs)\n",
        "lr_auc = roc_auc_score(y_test, lr_probs)\n",
        "# summarise scores\n",
        "print('No Skill: ROC AUC=%.3f' % (ns_auc))\n",
        "print('Logistic: ROC AUC=%.3f' % (lr_auc))\n",
        "# calculate roc curves\n",
        "ns_fpr, ns_tpr, _ = roc_curve(y_test, ns_probs)\n",
        "lr_fpr, lr_tpr, _ = roc_curve(y_test, lr_probs)\n",
        "# plot the roc curve for the model\n",
        "plt.plot(ns_fpr, ns_tpr, linestyle='--', label='No Skill')\n",
        "plt.plot(lr_fpr, lr_tpr, marker='.', label='Logistic')\n",
        "# axis labels\n",
        "plt.xlabel('False Positive Rate')\n",
        "plt.ylabel('True Positive Rate')\n",
        "# show the legend\n",
        "plt.legend()\n",
        "# show the plot\n",
        "plt.show()"
      ],
      "metadata": {
        "colab": {
          "base_uri": "https://localhost:8080/",
          "height": 373
        },
        "id": "goAVw6pzk4MW",
        "outputId": "fc2d9e25-ee99-464c-f6ac-7a592e4bbfbe"
      },
      "execution_count": null,
      "outputs": [
        {
          "output_type": "stream",
          "name": "stderr",
          "text": [
            "/usr/local/lib/python3.7/dist-packages/sklearn/utils/validation.py:1692: FutureWarning: Feature names only support names that are all strings. Got feature names with dtypes: ['tuple']. An error will be raised in 1.2.\n",
            "  FutureWarning,\n"
          ]
        },
        {
          "output_type": "stream",
          "name": "stdout",
          "text": [
            "No Skill: ROC AUC=0.500\n",
            "Logistic: ROC AUC=0.876\n"
          ]
        },
        {
          "output_type": "display_data",
          "data": {
            "text/plain": [
              "<Figure size 432x288 with 1 Axes>"
            ],
            "image/png": "[encoded data removed]"
          },
          "metadata": {}
        }
      ]
    }
  ]
}